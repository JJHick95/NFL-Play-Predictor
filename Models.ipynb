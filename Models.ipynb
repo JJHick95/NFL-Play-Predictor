{
 "cells": [
  {
   "cell_type": "markdown",
   "metadata": {},
   "source": [
    "## Import Libraries"
   ]
  },
  {
   "cell_type": "code",
   "execution_count": 3,
   "metadata": {},
   "outputs": [],
   "source": [
    "# importing data\n",
    "import pandas as pd\n",
    "\n",
    "# train_test_split & cross validation\n",
    "from sklearn.model_selection import train_test_split, cross_val_score\n",
    "from sklearn.metrics import accuracy_score, precision_score, recall_score,f1_score\n",
    "\n",
    "# creating piplines\n",
    "from sklearn.compose import make_column_selector, make_column_transformer\n",
    "from sklearn.preprocessing import StandardScaler, OneHotEncoder\n",
    "from sklearn.model_selection import GridSearchCV\n",
    "from imblearn.pipeline import make_pipeline\n",
    "from imblearn.over_sampling import SMOTE\n",
    "\n",
    "# machine learning algorithms\n",
    "from sklearn.tree import DecisionTreeClassifier\n",
    "from sklearn.ensemble import RandomForestClassifier, ExtraTreesClassifier\n",
    "from sklearn.linear_model import LogisticRegression\n",
    "from sklearn.naive_bayes import GaussianNB\n",
    "from sklearn.neighbors import KNeighborsClassifier\n",
    "import xgboost as xgb\n",
    "\n",
    "# making graphs\n",
    "import matplotlib.pyplot as plt\n",
    "import seaborn as sns\n",
    "from sklearn.metrics import confusion_matrix\n",
    "\n",
    "import numpy as np"
   ]
  },
  {
   "cell_type": "markdown",
   "metadata": {},
   "source": [
    "## Import Data"
   ]
  },
  {
   "cell_type": "code",
   "execution_count": 4,
   "metadata": {},
   "outputs": [],
   "source": [
    "df = pd.read_pickle('run_pass_df.pkl')"
   ]
  },
  {
   "cell_type": "code",
   "execution_count": 5,
   "metadata": {},
   "outputs": [
    {
     "data": {
      "text/html": [
       "<div>\n",
       "<style scoped>\n",
       "    .dataframe tbody tr th:only-of-type {\n",
       "        vertical-align: middle;\n",
       "    }\n",
       "\n",
       "    .dataframe tbody tr th {\n",
       "        vertical-align: top;\n",
       "    }\n",
       "\n",
       "    .dataframe thead th {\n",
       "        text-align: right;\n",
       "    }\n",
       "</style>\n",
       "<table border=\"1\" class=\"dataframe\">\n",
       "  <thead>\n",
       "    <tr style=\"text-align: right;\">\n",
       "      <th></th>\n",
       "      <th>yardline_100</th>\n",
       "      <th>quarter_seconds_remaining</th>\n",
       "      <th>half_seconds_remaining</th>\n",
       "      <th>game_seconds_remaining</th>\n",
       "      <th>drive</th>\n",
       "      <th>qtr</th>\n",
       "      <th>down</th>\n",
       "      <th>goal_to_go</th>\n",
       "      <th>ydstogo</th>\n",
       "      <th>yards_gained</th>\n",
       "      <th>shotgun</th>\n",
       "      <th>no_huddle</th>\n",
       "      <th>posteam_timeouts_remaining</th>\n",
       "      <th>defteam_timeouts_remaining</th>\n",
       "      <th>posteam_score</th>\n",
       "      <th>defteam_score</th>\n",
       "      <th>score_differential</th>\n",
       "      <th>wp</th>\n",
       "      <th>Target</th>\n",
       "    </tr>\n",
       "  </thead>\n",
       "  <tbody>\n",
       "    <tr>\n",
       "      <th>3</th>\n",
       "      <td>80.0</td>\n",
       "      <td>900.0</td>\n",
       "      <td>1800.0</td>\n",
       "      <td>3600.0</td>\n",
       "      <td>1.0</td>\n",
       "      <td>1</td>\n",
       "      <td>1.0</td>\n",
       "      <td>0</td>\n",
       "      <td>15</td>\n",
       "      <td>10.0</td>\n",
       "      <td>0</td>\n",
       "      <td>0</td>\n",
       "      <td>3.0</td>\n",
       "      <td>3.0</td>\n",
       "      <td>0.0</td>\n",
       "      <td>0.0</td>\n",
       "      <td>0.0</td>\n",
       "      <td>0.394005</td>\n",
       "      <td>1</td>\n",
       "    </tr>\n",
       "    <tr>\n",
       "      <th>4</th>\n",
       "      <td>70.0</td>\n",
       "      <td>862.0</td>\n",
       "      <td>1762.0</td>\n",
       "      <td>3562.0</td>\n",
       "      <td>1.0</td>\n",
       "      <td>1</td>\n",
       "      <td>2.0</td>\n",
       "      <td>0</td>\n",
       "      <td>5</td>\n",
       "      <td>11.0</td>\n",
       "      <td>0</td>\n",
       "      <td>0</td>\n",
       "      <td>3.0</td>\n",
       "      <td>3.0</td>\n",
       "      <td>0.0</td>\n",
       "      <td>0.0</td>\n",
       "      <td>0.0</td>\n",
       "      <td>0.432698</td>\n",
       "      <td>0</td>\n",
       "    </tr>\n",
       "    <tr>\n",
       "      <th>5</th>\n",
       "      <td>59.0</td>\n",
       "      <td>826.0</td>\n",
       "      <td>1726.0</td>\n",
       "      <td>3526.0</td>\n",
       "      <td>1.0</td>\n",
       "      <td>1</td>\n",
       "      <td>1.0</td>\n",
       "      <td>0</td>\n",
       "      <td>10</td>\n",
       "      <td>20.0</td>\n",
       "      <td>0</td>\n",
       "      <td>0</td>\n",
       "      <td>3.0</td>\n",
       "      <td>3.0</td>\n",
       "      <td>0.0</td>\n",
       "      <td>0.0</td>\n",
       "      <td>0.0</td>\n",
       "      <td>0.460501</td>\n",
       "      <td>0</td>\n",
       "    </tr>\n",
       "    <tr>\n",
       "      <th>6</th>\n",
       "      <td>39.0</td>\n",
       "      <td>790.0</td>\n",
       "      <td>1690.0</td>\n",
       "      <td>3490.0</td>\n",
       "      <td>1.0</td>\n",
       "      <td>1</td>\n",
       "      <td>1.0</td>\n",
       "      <td>0</td>\n",
       "      <td>10</td>\n",
       "      <td>0.0</td>\n",
       "      <td>0</td>\n",
       "      <td>0</td>\n",
       "      <td>3.0</td>\n",
       "      <td>3.0</td>\n",
       "      <td>0.0</td>\n",
       "      <td>0.0</td>\n",
       "      <td>0.0</td>\n",
       "      <td>0.508720</td>\n",
       "      <td>1</td>\n",
       "    </tr>\n",
       "    <tr>\n",
       "      <th>7</th>\n",
       "      <td>39.0</td>\n",
       "      <td>785.0</td>\n",
       "      <td>1685.0</td>\n",
       "      <td>3485.0</td>\n",
       "      <td>1.0</td>\n",
       "      <td>1</td>\n",
       "      <td>2.0</td>\n",
       "      <td>0</td>\n",
       "      <td>10</td>\n",
       "      <td>0.0</td>\n",
       "      <td>1</td>\n",
       "      <td>0</td>\n",
       "      <td>3.0</td>\n",
       "      <td>3.0</td>\n",
       "      <td>0.0</td>\n",
       "      <td>0.0</td>\n",
       "      <td>0.0</td>\n",
       "      <td>0.489379</td>\n",
       "      <td>1</td>\n",
       "    </tr>\n",
       "  </tbody>\n",
       "</table>\n",
       "</div>"
      ],
      "text/plain": [
       "   yardline_100  quarter_seconds_remaining  half_seconds_remaining  \\\n",
       "3          80.0                      900.0                  1800.0   \n",
       "4          70.0                      862.0                  1762.0   \n",
       "5          59.0                      826.0                  1726.0   \n",
       "6          39.0                      790.0                  1690.0   \n",
       "7          39.0                      785.0                  1685.0   \n",
       "\n",
       "   game_seconds_remaining  drive  qtr  down  goal_to_go  ydstogo  \\\n",
       "3                  3600.0    1.0    1   1.0           0       15   \n",
       "4                  3562.0    1.0    1   2.0           0        5   \n",
       "5                  3526.0    1.0    1   1.0           0       10   \n",
       "6                  3490.0    1.0    1   1.0           0       10   \n",
       "7                  3485.0    1.0    1   2.0           0       10   \n",
       "\n",
       "   yards_gained  shotgun  no_huddle  posteam_timeouts_remaining  \\\n",
       "3          10.0        0          0                         3.0   \n",
       "4          11.0        0          0                         3.0   \n",
       "5          20.0        0          0                         3.0   \n",
       "6           0.0        0          0                         3.0   \n",
       "7           0.0        1          0                         3.0   \n",
       "\n",
       "   defteam_timeouts_remaining  posteam_score  defteam_score  \\\n",
       "3                         3.0            0.0            0.0   \n",
       "4                         3.0            0.0            0.0   \n",
       "5                         3.0            0.0            0.0   \n",
       "6                         3.0            0.0            0.0   \n",
       "7                         3.0            0.0            0.0   \n",
       "\n",
       "   score_differential        wp  Target  \n",
       "3                 0.0  0.394005       1  \n",
       "4                 0.0  0.432698       0  \n",
       "5                 0.0  0.460501       0  \n",
       "6                 0.0  0.508720       1  \n",
       "7                 0.0  0.489379       1  "
      ]
     },
     "execution_count": 5,
     "metadata": {},
     "output_type": "execute_result"
    }
   ],
   "source": [
    "df.head()"
   ]
  },
  {
   "cell_type": "code",
   "execution_count": 6,
   "metadata": {},
   "outputs": [],
   "source": [
    "# drop yards_gained feature as we are only interested in pre-snap information\n",
    "df = df.drop('yards_gained', axis=1)"
   ]
  },
  {
   "cell_type": "markdown",
   "metadata": {},
   "source": [
    "## Prepare Data"
   ]
  },
  {
   "cell_type": "code",
   "execution_count": 7,
   "metadata": {},
   "outputs": [],
   "source": [
    "# prepare for the train_test_split\n",
    "X = df.drop('Target', axis=1)\n",
    "y = df.Target"
   ]
  },
  {
   "cell_type": "code",
   "execution_count": 8,
   "metadata": {},
   "outputs": [],
   "source": [
    "# perform train_test_split\n",
    "X_train, X_test, y_train, y_test = train_test_split(X, y, random_state=2020, test_size=0.20)"
   ]
  },
  {
   "cell_type": "code",
   "execution_count": 9,
   "metadata": {},
   "outputs": [
    {
     "data": {
      "text/plain": [
       "((68998, 17), (17250, 17), (68998,), (17250,))"
      ]
     },
     "execution_count": 9,
     "metadata": {},
     "output_type": "execute_result"
    }
   ],
   "source": [
    "X_train.shape, X_test.shape, y_train.shape, y_test.shape"
   ]
  },
  {
   "cell_type": "markdown",
   "metadata": {},
   "source": [
    "## Making Pipelines"
   ]
  },
  {
   "cell_type": "code",
   "execution_count": 10,
   "metadata": {},
   "outputs": [],
   "source": [
    "# let's create a pipeline to do all of our preprocessing for us"
   ]
  },
  {
   "cell_type": "code",
   "execution_count": 11,
   "metadata": {},
   "outputs": [
    {
     "data": {
      "text/plain": [
       "ColumnTransformer(transformers=[('onehotencoder', OneHotEncoder(),\n",
       "                                 <sklearn.compose._column_transformer.make_column_selector object at 0x7f7f68dd36d0>),\n",
       "                                ('standardscaler', StandardScaler(),\n",
       "                                 <sklearn.compose._column_transformer.make_column_selector object at 0x7f7f68dd32e0>)])"
      ]
     },
     "execution_count": 11,
     "metadata": {},
     "output_type": "execute_result"
    }
   ],
   "source": [
    "preprocessing = make_column_transformer((OneHotEncoder(), make_column_selector(dtype_include=object)),\n",
    "                                       (StandardScaler(), make_column_selector(dtype_include=np.number)))\n",
    "\n",
    "# SMOTE() -> removed SMOTE from preprocessing pipeline\n",
    "\n",
    "preprocessing"
   ]
  },
  {
   "cell_type": "code",
   "execution_count": 12,
   "metadata": {},
   "outputs": [
    {
     "data": {
      "text/plain": [
       "array([[ 0.90564106,  0.85277944,  1.32850403, ...,  0.8464257 ,\n",
       "        -1.80343225, -1.5457903 ],\n",
       "       [ 0.74100312,  0.31975379,  1.0627638 , ..., -0.51012371,\n",
       "        -0.49756381, -0.42533752],\n",
       "       [ 0.98796002,  0.60107288, -0.45786081, ...,  2.10607873,\n",
       "        -1.43032698, -1.62342321],\n",
       "       ...,\n",
       "       [ 0.0824514 ,  0.31235066,  1.05907297, ...,  0.74952932,\n",
       "        -0.49756381, -0.56399903],\n",
       "       [ 0.98796002, -0.60193639,  0.60325467, ...,  1.04021848,\n",
       "        -0.77739276, -1.20649511],\n",
       "       [ 0.78216261, -0.62414579,  0.59218216, ..., -0.21943455,\n",
       "        -0.77739276, -0.87185151]])"
      ]
     },
     "execution_count": 12,
     "metadata": {},
     "output_type": "execute_result"
    }
   ],
   "source": [
    "# fit and transform our preprocessing pipeline to our training data\n",
    "preprocessing.fit_transform(X_train)"
   ]
  },
  {
   "cell_type": "code",
   "execution_count": 13,
   "metadata": {},
   "outputs": [],
   "source": [
    "# the next thing we'll do is make separate pipelines for each model we want to test\n",
    "# each of these pipelines will contain our preprocessing pipeline\n",
    "\n",
    "dt_pipeline = make_pipeline(preprocessing, DecisionTreeClassifier(random_state=2020))\n",
    "rf_pipeline = make_pipeline(preprocessing, RandomForestClassifier(random_state=2020))\n",
    "lr_pipeline = make_pipeline(preprocessing, LogisticRegression(random_state=2020))\n",
    "et_pipeline = make_pipeline(preprocessing, ExtraTreesClassifier(random_state=2020))\n",
    "kn_pipeline = make_pipeline(preprocessing, KNeighborsClassifier())"
   ]
  },
  {
   "cell_type": "markdown",
   "metadata": {},
   "source": [
    "## Create Param_Grids"
   ]
  },
  {
   "cell_type": "code",
   "execution_count": 14,
   "metadata": {},
   "outputs": [],
   "source": [
    "# different param_grids for each pipeline\n",
    "\n",
    "dt_param_grid = {\n",
    "    'decisiontreeclassifier__criterion': ['entropy', 'gini'],\n",
    "    'decisiontreeclassifier__splitter': ['best', 'random'],\n",
    "    'decisiontreeclassifier__max_depth': [2, 5, 10],\n",
    "    'decisiontreeclassifier__max_features': ['auto', 'sqrt', 'log2'],\n",
    "    'decisiontreeclassifier__class_weight': ['none', 'balanced']\n",
    "    \n",
    "}\n",
    "\n",
    "rf_param_grid = {\n",
    "    'randomforestclassifier__n_estimators': [100, 1000, 2000],\n",
    "    'randomforestclassifier__max_depth': [2, 5, 10]\n",
    "    \n",
    "}\n",
    "\n",
    "lr_param_grid = {\n",
    "    'logisticregression__penalty': ['l1', 'l2', 'elasticnet', 'none'],\n",
    "    'logisticregression__dual': [True, False],\n",
    "    'logisticregression__solver': ['newton-cg', 'lbfgs', 'liblinear', 'sag', 'saga'],\n",
    "    'logisticregression__multi_class': ['auto', 'ovr', 'multinomial'],\n",
    "    'logisticregression__n_jobs': [10, 20, 30],\n",
    "    'logisticregression__C': [0.01, 0.1, 0.5]\n",
    "    \n",
    "}\n",
    "\n",
    "et_param_grid = {\n",
    "    'extratreesclassifier__criterion': ['entropy', 'gini'],\n",
    "    'extratreesclassifier__max_depth': [2, 5, 10],\n",
    "    'extratreesclassifier__n_estimators': [100, 250, 500],\n",
    "    'extratreesclassifier__max_features': ['auto', 'sqrt', 'log2'],\n",
    "    'extratreesclassifier__class_weight': ['none', 'balanced']\n",
    "    \n",
    "}\n",
    "\n",
    "kn_param_grid = {\n",
    "    'kneighborsclassifier__n_neighbors': [2, 3], # could increase values\n",
    "    'kneighborsclassifier__weights': ['uniform', 'distance'],\n",
    "    'kneighborsclassifier__p': [1, 2]\n",
    "    \n",
    "}"
   ]
  },
  {
   "cell_type": "markdown",
   "metadata": {},
   "source": [
    "## LogisticRegression"
   ]
  },
  {
   "cell_type": "code",
   "execution_count": 15,
   "metadata": {},
   "outputs": [
    {
     "name": "stderr",
     "output_type": "stream",
     "text": [
      "/Users/jonhickey/opt/anaconda3/envs/learn-env-2/lib/python3.8/site-packages/sklearn/linear_model/_logistic.py:1353: UserWarning: 'n_jobs' > 1 does not have any effect when 'solver' is set to 'liblinear'. Got 'n_jobs' = 10.\n",
      "  warnings.warn(\"'n_jobs' > 1 does not have any effect when\"\n"
     ]
    },
    {
     "data": {
      "text/plain": [
       "GridSearchCV(estimator=Pipeline(steps=[('columntransformer',\n",
       "                                        ColumnTransformer(transformers=[('onehotencoder',\n",
       "                                                                         OneHotEncoder(),\n",
       "                                                                         <sklearn.compose._column_transformer.make_column_selector object at 0x7f7f68dd36d0>),\n",
       "                                                                        ('standardscaler',\n",
       "                                                                         StandardScaler(),\n",
       "                                                                         <sklearn.compose._column_transformer.make_column_selector object at 0x7f7f68dd32e0>)])),\n",
       "                                       ('logisticregression',\n",
       "                                        L...20))]),\n",
       "             n_jobs=-1,\n",
       "             param_grid={'logisticregression__C': [0.01, 0.1, 0.5],\n",
       "                         'logisticregression__dual': [True, False],\n",
       "                         'logisticregression__multi_class': ['auto', 'ovr',\n",
       "                                                             'multinomial'],\n",
       "                         'logisticregression__n_jobs': [10, 20, 30],\n",
       "                         'logisticregression__penalty': ['l1', 'l2',\n",
       "                                                         'elasticnet', 'none'],\n",
       "                         'logisticregression__solver': ['newton-cg', 'lbfgs',\n",
       "                                                        'liblinear', 'sag',\n",
       "                                                        'saga']})"
      ]
     },
     "execution_count": 15,
     "metadata": {},
     "output_type": "execute_result"
    }
   ],
   "source": [
    "search_lr = GridSearchCV(lr_pipeline, lr_param_grid, n_jobs=-1)\n",
    "\n",
    "search_lr.fit(X_train, y_train)"
   ]
  },
  {
   "cell_type": "code",
   "execution_count": 16,
   "metadata": {},
   "outputs": [
    {
     "data": {
      "text/plain": [
       "{'logisticregression__C': 0.01,\n",
       " 'logisticregression__dual': True,\n",
       " 'logisticregression__multi_class': 'auto',\n",
       " 'logisticregression__n_jobs': 10,\n",
       " 'logisticregression__penalty': 'l2',\n",
       " 'logisticregression__solver': 'liblinear'}"
      ]
     },
     "execution_count": 16,
     "metadata": {},
     "output_type": "execute_result"
    }
   ],
   "source": [
    "# we can check its best parameters\n",
    "search_lr.best_params_"
   ]
  },
  {
   "cell_type": "code",
   "execution_count": 17,
   "metadata": {},
   "outputs": [],
   "source": [
    "# assign best model to a variable using best_estimator_\n",
    "best_lr_pipeline = search_lr.best_estimator_"
   ]
  },
  {
   "cell_type": "code",
   "execution_count": 18,
   "metadata": {},
   "outputs": [
    {
     "name": "stderr",
     "output_type": "stream",
     "text": [
      "/Users/jonhickey/opt/anaconda3/envs/learn-env-2/lib/python3.8/site-packages/sklearn/linear_model/_logistic.py:1353: UserWarning: 'n_jobs' > 1 does not have any effect when 'solver' is set to 'liblinear'. Got 'n_jobs' = 10.\n",
      "  warnings.warn(\"'n_jobs' > 1 does not have any effect when\"\n",
      "/Users/jonhickey/opt/anaconda3/envs/learn-env-2/lib/python3.8/site-packages/sklearn/linear_model/_logistic.py:1353: UserWarning: 'n_jobs' > 1 does not have any effect when 'solver' is set to 'liblinear'. Got 'n_jobs' = 10.\n",
      "  warnings.warn(\"'n_jobs' > 1 does not have any effect when\"\n",
      "/Users/jonhickey/opt/anaconda3/envs/learn-env-2/lib/python3.8/site-packages/sklearn/linear_model/_logistic.py:1353: UserWarning: 'n_jobs' > 1 does not have any effect when 'solver' is set to 'liblinear'. Got 'n_jobs' = 10.\n",
      "  warnings.warn(\"'n_jobs' > 1 does not have any effect when\"\n",
      "/Users/jonhickey/opt/anaconda3/envs/learn-env-2/lib/python3.8/site-packages/sklearn/linear_model/_logistic.py:1353: UserWarning: 'n_jobs' > 1 does not have any effect when 'solver' is set to 'liblinear'. Got 'n_jobs' = 10.\n",
      "  warnings.warn(\"'n_jobs' > 1 does not have any effect when\"\n",
      "/Users/jonhickey/opt/anaconda3/envs/learn-env-2/lib/python3.8/site-packages/sklearn/linear_model/_logistic.py:1353: UserWarning: 'n_jobs' > 1 does not have any effect when 'solver' is set to 'liblinear'. Got 'n_jobs' = 10.\n",
      "  warnings.warn(\"'n_jobs' > 1 does not have any effect when\"\n",
      "/Users/jonhickey/opt/anaconda3/envs/learn-env-2/lib/python3.8/site-packages/sklearn/linear_model/_logistic.py:1353: UserWarning: 'n_jobs' > 1 does not have any effect when 'solver' is set to 'liblinear'. Got 'n_jobs' = 10.\n",
      "  warnings.warn(\"'n_jobs' > 1 does not have any effect when\"\n",
      "/Users/jonhickey/opt/anaconda3/envs/learn-env-2/lib/python3.8/site-packages/sklearn/linear_model/_logistic.py:1353: UserWarning: 'n_jobs' > 1 does not have any effect when 'solver' is set to 'liblinear'. Got 'n_jobs' = 10.\n",
      "  warnings.warn(\"'n_jobs' > 1 does not have any effect when\"\n",
      "/Users/jonhickey/opt/anaconda3/envs/learn-env-2/lib/python3.8/site-packages/sklearn/linear_model/_logistic.py:1353: UserWarning: 'n_jobs' > 1 does not have any effect when 'solver' is set to 'liblinear'. Got 'n_jobs' = 10.\n",
      "  warnings.warn(\"'n_jobs' > 1 does not have any effect when\"\n",
      "/Users/jonhickey/opt/anaconda3/envs/learn-env-2/lib/python3.8/site-packages/sklearn/linear_model/_logistic.py:1353: UserWarning: 'n_jobs' > 1 does not have any effect when 'solver' is set to 'liblinear'. Got 'n_jobs' = 10.\n",
      "  warnings.warn(\"'n_jobs' > 1 does not have any effect when\"\n",
      "/Users/jonhickey/opt/anaconda3/envs/learn-env-2/lib/python3.8/site-packages/sklearn/linear_model/_logistic.py:1353: UserWarning: 'n_jobs' > 1 does not have any effect when 'solver' is set to 'liblinear'. Got 'n_jobs' = 10.\n",
      "  warnings.warn(\"'n_jobs' > 1 does not have any effect when\"\n",
      "/Users/jonhickey/opt/anaconda3/envs/learn-env-2/lib/python3.8/site-packages/sklearn/linear_model/_logistic.py:1353: UserWarning: 'n_jobs' > 1 does not have any effect when 'solver' is set to 'liblinear'. Got 'n_jobs' = 10.\n",
      "  warnings.warn(\"'n_jobs' > 1 does not have any effect when\"\n",
      "/Users/jonhickey/opt/anaconda3/envs/learn-env-2/lib/python3.8/site-packages/sklearn/linear_model/_logistic.py:1353: UserWarning: 'n_jobs' > 1 does not have any effect when 'solver' is set to 'liblinear'. Got 'n_jobs' = 10.\n",
      "  warnings.warn(\"'n_jobs' > 1 does not have any effect when\"\n",
      "/Users/jonhickey/opt/anaconda3/envs/learn-env-2/lib/python3.8/site-packages/sklearn/linear_model/_logistic.py:1353: UserWarning: 'n_jobs' > 1 does not have any effect when 'solver' is set to 'liblinear'. Got 'n_jobs' = 10.\n",
      "  warnings.warn(\"'n_jobs' > 1 does not have any effect when\"\n",
      "/Users/jonhickey/opt/anaconda3/envs/learn-env-2/lib/python3.8/site-packages/sklearn/linear_model/_logistic.py:1353: UserWarning: 'n_jobs' > 1 does not have any effect when 'solver' is set to 'liblinear'. Got 'n_jobs' = 10.\n",
      "  warnings.warn(\"'n_jobs' > 1 does not have any effect when\"\n",
      "/Users/jonhickey/opt/anaconda3/envs/learn-env-2/lib/python3.8/site-packages/sklearn/linear_model/_logistic.py:1353: UserWarning: 'n_jobs' > 1 does not have any effect when 'solver' is set to 'liblinear'. Got 'n_jobs' = 10.\n",
      "  warnings.warn(\"'n_jobs' > 1 does not have any effect when\"\n",
      "/Users/jonhickey/opt/anaconda3/envs/learn-env-2/lib/python3.8/site-packages/sklearn/linear_model/_logistic.py:1353: UserWarning: 'n_jobs' > 1 does not have any effect when 'solver' is set to 'liblinear'. Got 'n_jobs' = 10.\n",
      "  warnings.warn(\"'n_jobs' > 1 does not have any effect when\"\n",
      "/Users/jonhickey/opt/anaconda3/envs/learn-env-2/lib/python3.8/site-packages/sklearn/linear_model/_logistic.py:1353: UserWarning: 'n_jobs' > 1 does not have any effect when 'solver' is set to 'liblinear'. Got 'n_jobs' = 10.\n",
      "  warnings.warn(\"'n_jobs' > 1 does not have any effect when\"\n",
      "/Users/jonhickey/opt/anaconda3/envs/learn-env-2/lib/python3.8/site-packages/sklearn/linear_model/_logistic.py:1353: UserWarning: 'n_jobs' > 1 does not have any effect when 'solver' is set to 'liblinear'. Got 'n_jobs' = 10.\n",
      "  warnings.warn(\"'n_jobs' > 1 does not have any effect when\"\n",
      "/Users/jonhickey/opt/anaconda3/envs/learn-env-2/lib/python3.8/site-packages/sklearn/linear_model/_logistic.py:1353: UserWarning: 'n_jobs' > 1 does not have any effect when 'solver' is set to 'liblinear'. Got 'n_jobs' = 10.\n",
      "  warnings.warn(\"'n_jobs' > 1 does not have any effect when\"\n",
      "/Users/jonhickey/opt/anaconda3/envs/learn-env-2/lib/python3.8/site-packages/sklearn/linear_model/_logistic.py:1353: UserWarning: 'n_jobs' > 1 does not have any effect when 'solver' is set to 'liblinear'. Got 'n_jobs' = 10.\n",
      "  warnings.warn(\"'n_jobs' > 1 does not have any effect when\"\n"
     ]
    }
   ],
   "source": [
    "# cross validation using the accuracy, precision, recall, and f1 score metric\n",
    "best_lr_cross_val_acc = cross_val_score(best_lr_pipeline, X_train, y_train, scoring='accuracy')\n",
    "best_lr_cross_val_prec = cross_val_score(best_lr_pipeline, X_train, y_train, scoring='precision')\n",
    "best_lr_cross_val_rec = cross_val_score(best_lr_pipeline, X_train, y_train, scoring='recall')\n",
    "best_lr_cross_val_f1 = cross_val_score(best_lr_pipeline, X_train, y_train, scoring='f1')"
   ]
  },
  {
   "cell_type": "markdown",
   "metadata": {},
   "source": [
    "## DecisionTree"
   ]
  },
  {
   "cell_type": "code",
   "execution_count": 19,
   "metadata": {},
   "outputs": [
    {
     "data": {
      "text/plain": [
       "GridSearchCV(estimator=Pipeline(steps=[('columntransformer',\n",
       "                                        ColumnTransformer(transformers=[('onehotencoder',\n",
       "                                                                         OneHotEncoder(),\n",
       "                                                                         <sklearn.compose._column_transformer.make_column_selector object at 0x7f7f68dd36d0>),\n",
       "                                                                        ('standardscaler',\n",
       "                                                                         StandardScaler(),\n",
       "                                                                         <sklearn.compose._column_transformer.make_column_selector object at 0x7f7f68dd32e0>)])),\n",
       "                                       ('decisiontreeclassifier',\n",
       "                                        DecisionTreeClassifier(random_state=2020))]),\n",
       "             n_jobs=-1,\n",
       "             param_grid={'decisiontreeclassifier__class_weight': ['none',\n",
       "                                                                  'balanced'],\n",
       "                         'decisiontreeclassifier__criterion': ['entropy',\n",
       "                                                               'gini'],\n",
       "                         'decisiontreeclassifier__max_depth': [2, 5, 10],\n",
       "                         'decisiontreeclassifier__max_features': ['auto',\n",
       "                                                                  'sqrt',\n",
       "                                                                  'log2'],\n",
       "                         'decisiontreeclassifier__splitter': ['best',\n",
       "                                                              'random']})"
      ]
     },
     "execution_count": 19,
     "metadata": {},
     "output_type": "execute_result"
    }
   ],
   "source": [
    "search_dt = GridSearchCV(dt_pipeline, dt_param_grid, n_jobs=-1)\n",
    "\n",
    "search_dt.fit(X_train, y_train)"
   ]
  },
  {
   "cell_type": "code",
   "execution_count": 20,
   "metadata": {},
   "outputs": [
    {
     "data": {
      "text/plain": [
       "{'decisiontreeclassifier__class_weight': 'balanced',\n",
       " 'decisiontreeclassifier__criterion': 'entropy',\n",
       " 'decisiontreeclassifier__max_depth': 2,\n",
       " 'decisiontreeclassifier__max_features': 'auto',\n",
       " 'decisiontreeclassifier__splitter': 'random'}"
      ]
     },
     "execution_count": 20,
     "metadata": {},
     "output_type": "execute_result"
    }
   ],
   "source": [
    "# we can check its best parameters\n",
    "search_dt.best_params_"
   ]
  },
  {
   "cell_type": "code",
   "execution_count": 21,
   "metadata": {},
   "outputs": [],
   "source": [
    "# assign best model to a variable using best_estimator_\n",
    "best_dt_pipeline = search_dt.best_estimator_"
   ]
  },
  {
   "cell_type": "code",
   "execution_count": 22,
   "metadata": {},
   "outputs": [],
   "source": [
    "# cross validation using the accuracy, precision, recall, and f1 score metric\n",
    "best_dt_cross_val_acc = cross_val_score(best_dt_pipeline, X_train, y_train, scoring='accuracy')\n",
    "best_dt_cross_val_prec = cross_val_score(best_dt_pipeline, X_train, y_train, scoring='precision')\n",
    "best_dt_cross_val_rec = cross_val_score(best_dt_pipeline, X_train, y_train, scoring='recall')\n",
    "best_dt_cross_val_f1 = cross_val_score(best_dt_pipeline, X_train, y_train, scoring='f1')"
   ]
  },
  {
   "cell_type": "markdown",
   "metadata": {},
   "source": [
    "## RandomForest"
   ]
  },
  {
   "cell_type": "code",
   "execution_count": 23,
   "metadata": {},
   "outputs": [
    {
     "data": {
      "text/plain": [
       "GridSearchCV(estimator=Pipeline(steps=[('columntransformer',\n",
       "                                        ColumnTransformer(transformers=[('onehotencoder',\n",
       "                                                                         OneHotEncoder(),\n",
       "                                                                         <sklearn.compose._column_transformer.make_column_selector object at 0x7f7f68dd36d0>),\n",
       "                                                                        ('standardscaler',\n",
       "                                                                         StandardScaler(),\n",
       "                                                                         <sklearn.compose._column_transformer.make_column_selector object at 0x7f7f68dd32e0>)])),\n",
       "                                       ('randomforestclassifier',\n",
       "                                        RandomForestClassifier(random_state=2020))]),\n",
       "             n_jobs=-1,\n",
       "             param_grid={'randomforestclassifier__max_depth': [2, 5, 10],\n",
       "                         'randomforestclassifier__n_estimators': [100, 1000,\n",
       "                                                                  2000]})"
      ]
     },
     "execution_count": 23,
     "metadata": {},
     "output_type": "execute_result"
    }
   ],
   "source": [
    "search_rf = GridSearchCV(rf_pipeline, rf_param_grid, n_jobs=-1)\n",
    "\n",
    "search_rf.fit(X_train, y_train)"
   ]
  },
  {
   "cell_type": "code",
   "execution_count": 24,
   "metadata": {},
   "outputs": [
    {
     "data": {
      "text/plain": [
       "{'randomforestclassifier__max_depth': 10,\n",
       " 'randomforestclassifier__n_estimators': 2000}"
      ]
     },
     "execution_count": 24,
     "metadata": {},
     "output_type": "execute_result"
    }
   ],
   "source": [
    "# we can check its best parameters\n",
    "search_rf.best_params_"
   ]
  },
  {
   "cell_type": "code",
   "execution_count": 25,
   "metadata": {},
   "outputs": [],
   "source": [
    "# assign best model to a variable using best_estimator_\n",
    "best_rf_pipeline = search_rf.best_estimator_"
   ]
  },
  {
   "cell_type": "code",
   "execution_count": 26,
   "metadata": {},
   "outputs": [],
   "source": [
    "# cross validation using the accuracy, precision, recall, and f1 score metric\n",
    "best_rf_cross_val_acc = cross_val_score(best_rf_pipeline, X_train, y_train, scoring='accuracy')\n",
    "best_rf_cross_val_prec = cross_val_score(best_rf_pipeline, X_train, y_train, scoring='precision')\n",
    "best_rf_cross_val_rec = cross_val_score(best_rf_pipeline, X_train, y_train, scoring='recall')\n",
    "best_rf_cross_val_f1 = cross_val_score(best_rf_pipeline, X_train, y_train, scoring='f1')"
   ]
  },
  {
   "cell_type": "markdown",
   "metadata": {},
   "source": [
    "## ExtraTrees"
   ]
  },
  {
   "cell_type": "code",
   "execution_count": 27,
   "metadata": {},
   "outputs": [
    {
     "data": {
      "text/plain": [
       "GridSearchCV(estimator=Pipeline(steps=[('columntransformer',\n",
       "                                        ColumnTransformer(transformers=[('onehotencoder',\n",
       "                                                                         OneHotEncoder(),\n",
       "                                                                         <sklearn.compose._column_transformer.make_column_selector object at 0x7f7f68dd36d0>),\n",
       "                                                                        ('standardscaler',\n",
       "                                                                         StandardScaler(),\n",
       "                                                                         <sklearn.compose._column_transformer.make_column_selector object at 0x7f7f68dd32e0>)])),\n",
       "                                       ('extratreesclassifier',\n",
       "                                        ExtraTreesClassifier(random_state=2020))]),\n",
       "             n_jobs=-1,\n",
       "             param_grid={'extratreesclassifier__class_weight': ['none',\n",
       "                                                                'balanced'],\n",
       "                         'extratreesclassifier__criterion': ['entropy', 'gini'],\n",
       "                         'extratreesclassifier__max_depth': [2, 5, 10],\n",
       "                         'extratreesclassifier__max_features': ['auto', 'sqrt',\n",
       "                                                                'log2'],\n",
       "                         'extratreesclassifier__n_estimators': [100, 250, 500]})"
      ]
     },
     "execution_count": 27,
     "metadata": {},
     "output_type": "execute_result"
    }
   ],
   "source": [
    "search_et = GridSearchCV(et_pipeline, et_param_grid, n_jobs=-1)\n",
    "\n",
    "search_et.fit(X_train, y_train)"
   ]
  },
  {
   "cell_type": "code",
   "execution_count": 28,
   "metadata": {},
   "outputs": [
    {
     "data": {
      "text/plain": [
       "{'extratreesclassifier__class_weight': 'balanced',\n",
       " 'extratreesclassifier__criterion': 'gini',\n",
       " 'extratreesclassifier__max_depth': 5,\n",
       " 'extratreesclassifier__max_features': 'auto',\n",
       " 'extratreesclassifier__n_estimators': 100}"
      ]
     },
     "execution_count": 28,
     "metadata": {},
     "output_type": "execute_result"
    }
   ],
   "source": [
    "# we can check its best parameters\n",
    "search_et.best_params_"
   ]
  },
  {
   "cell_type": "code",
   "execution_count": 29,
   "metadata": {},
   "outputs": [],
   "source": [
    "# assign best model to a variable using best_estimator_\n",
    "best_et_pipeline = search_et.best_estimator_"
   ]
  },
  {
   "cell_type": "code",
   "execution_count": 30,
   "metadata": {},
   "outputs": [],
   "source": [
    "# cross validation using the accuracy, precision, recall, and f1 score metric\n",
    "best_et_cross_val_acc = cross_val_score(best_et_pipeline, X_train, y_train, scoring='accuracy')\n",
    "best_et_cross_val_prec = cross_val_score(best_et_pipeline, X_train, y_train, scoring='precision')\n",
    "best_et_cross_val_rec = cross_val_score(best_et_pipeline, X_train, y_train, scoring='recall')\n",
    "best_et_cross_val_f1 = cross_val_score(best_et_pipeline, X_train, y_train, scoring='f1')"
   ]
  },
  {
   "cell_type": "markdown",
   "metadata": {},
   "source": [
    "## KNeighbors"
   ]
  },
  {
   "cell_type": "code",
   "execution_count": 31,
   "metadata": {},
   "outputs": [
    {
     "data": {
      "text/plain": [
       "GridSearchCV(estimator=Pipeline(steps=[('columntransformer',\n",
       "                                        ColumnTransformer(transformers=[('onehotencoder',\n",
       "                                                                         OneHotEncoder(),\n",
       "                                                                         <sklearn.compose._column_transformer.make_column_selector object at 0x7f7f68dd36d0>),\n",
       "                                                                        ('standardscaler',\n",
       "                                                                         StandardScaler(),\n",
       "                                                                         <sklearn.compose._column_transformer.make_column_selector object at 0x7f7f68dd32e0>)])),\n",
       "                                       ('kneighborsclassifier',\n",
       "                                        KNeighborsClassifier())]),\n",
       "             n_jobs=-1,\n",
       "             param_grid={'kneighborsclassifier__n_neighbors': [2, 3],\n",
       "                         'kneighborsclassifier__p': [1, 2],\n",
       "                         'kneighborsclassifier__weights': ['uniform',\n",
       "                                                           'distance']})"
      ]
     },
     "execution_count": 31,
     "metadata": {},
     "output_type": "execute_result"
    }
   ],
   "source": [
    "search_kn = GridSearchCV(kn_pipeline, kn_param_grid, n_jobs=-1)\n",
    "\n",
    "search_kn.fit(X_train, y_train)"
   ]
  },
  {
   "cell_type": "code",
   "execution_count": 32,
   "metadata": {},
   "outputs": [
    {
     "data": {
      "text/plain": [
       "{'kneighborsclassifier__n_neighbors': 3,\n",
       " 'kneighborsclassifier__p': 2,\n",
       " 'kneighborsclassifier__weights': 'uniform'}"
      ]
     },
     "execution_count": 32,
     "metadata": {},
     "output_type": "execute_result"
    }
   ],
   "source": [
    "# we can check its best parameters\n",
    "search_kn.best_params_"
   ]
  },
  {
   "cell_type": "code",
   "execution_count": 33,
   "metadata": {},
   "outputs": [],
   "source": [
    "# assign best model to a variable using best_estimator_\n",
    "best_kn_pipeline = search_kn.best_estimator_"
   ]
  },
  {
   "cell_type": "code",
   "execution_count": 34,
   "metadata": {},
   "outputs": [],
   "source": [
    "# cross validation using the accuracy, precision, recall, and f1 score metric\n",
    "best_kn_cross_val_acc = cross_val_score(best_kn_pipeline, X_train, y_train, scoring='accuracy')\n",
    "best_kn_cross_val_prec = cross_val_score(best_kn_pipeline, X_train, y_train, scoring='precision')\n",
    "best_kn_cross_val_rec = cross_val_score(best_kn_pipeline, X_train, y_train, scoring='recall')\n",
    "best_kn_cross_val_f1 = cross_val_score(best_kn_pipeline, X_train, y_train, scoring='f1')"
   ]
  },
  {
   "cell_type": "markdown",
   "metadata": {},
   "source": [
    "## Gaussian Naive Bayes"
   ]
  },
  {
   "cell_type": "code",
   "execution_count": 35,
   "metadata": {},
   "outputs": [
    {
     "data": {
      "text/plain": [
       "GaussianNB()"
      ]
     },
     "execution_count": 35,
     "metadata": {},
     "output_type": "execute_result"
    }
   ],
   "source": [
    "gaussian = GaussianNB()\n",
    "ss = StandardScaler()\n",
    "\n",
    "X_train_sc = ss.fit_transform(X_train)\n",
    "gaussian.fit(X_train_sc, y_train)\n",
    "# y_hat_train_gnb = gaussian.predict(X_train_sc)"
   ]
  },
  {
   "cell_type": "code",
   "execution_count": 36,
   "metadata": {},
   "outputs": [],
   "source": [
    "# gnb_acc = accuracy_score(y_train, y_hat_train_gnb)\n",
    "# gnb_prec = precision_score(y_train, y_hat_train_gnb)\n",
    "# gnb_rec = recall_score(y_train, y_hat_train_gnb)\n",
    "# gnb_f1 = f1_score(y_train, y_hat_train_gnb)"
   ]
  },
  {
   "cell_type": "code",
   "execution_count": 37,
   "metadata": {},
   "outputs": [],
   "source": [
    "gnb_cross_val_acc = cross_val_score(gaussian, X_train_sc, y_train, scoring='accuracy').mean()\n",
    "gnb_cross_val_prec = cross_val_score(gaussian, X_train_sc, y_train, scoring='precision').mean()\n",
    "gnb_cross_val_rec = cross_val_score(gaussian, X_train_sc, y_train, scoring='recall').mean()\n",
    "gnb_cross_val_f1 = cross_val_score(gaussian, X_train_sc, y_train, scoring='f1').mean()"
   ]
  },
  {
   "cell_type": "markdown",
   "metadata": {},
   "source": [
    "## XGBoost"
   ]
  },
  {
   "cell_type": "code",
   "execution_count": 38,
   "metadata": {},
   "outputs": [
    {
     "data": {
      "text/plain": [
       "XGBClassifier(base_score=0.5, booster='gbtree', colsample_bylevel=1,\n",
       "              colsample_bynode=1, colsample_bytree=1, gamma=0, gpu_id=-1,\n",
       "              importance_type='gain', interaction_constraints='',\n",
       "              learning_rate=0.300000012, max_delta_step=0, max_depth=6,\n",
       "              min_child_weight=1, missing=nan, monotone_constraints='()',\n",
       "              n_estimators=100, n_jobs=0, num_parallel_tree=1, random_state=0,\n",
       "              reg_alpha=0, reg_lambda=1, scale_pos_weight=1, subsample=1,\n",
       "              tree_method='exact', validate_parameters=1, verbosity=None)"
      ]
     },
     "execution_count": 38,
     "metadata": {},
     "output_type": "execute_result"
    }
   ],
   "source": [
    "xgb = xgb.XGBClassifier()\n",
    "\n",
    "xgb.fit(X_train_sc, y_train)\n",
    "#y_hat_train_xgb = xgb.predict(X_train_sc)"
   ]
  },
  {
   "cell_type": "code",
   "execution_count": 39,
   "metadata": {},
   "outputs": [],
   "source": [
    "# xgb_acc = accuracy_score(y_train, y_hat_train_xgb)\n",
    "# xgb_prec = precision_score(y_train, y_hat_train_xgb)\n",
    "# xgb_rec = recall_score(y_train, y_hat_train_xgb)\n",
    "# xgb_f1 = f1_score(y_train, y_hat_train_xgb)"
   ]
  },
  {
   "cell_type": "code",
   "execution_count": 40,
   "metadata": {},
   "outputs": [],
   "source": [
    "xgb_cross_val_acc = cross_val_score(xgb, X_train_sc, y_train, scoring='accuracy').mean()\n",
    "xgb_cross_val_prec = cross_val_score(xgb, X_train_sc, y_train, scoring='precision').mean()\n",
    "xgb_cross_val_rec = cross_val_score(xgb, X_train_sc, y_train, scoring='recall').mean()\n",
    "xgb_cross_val_f1 = cross_val_score(xgb, X_train_sc, y_train, scoring='f1').mean()"
   ]
  },
  {
   "cell_type": "markdown",
   "metadata": {},
   "source": [
    "## Comparison of Models"
   ]
  },
  {
   "cell_type": "code",
   "execution_count": 41,
   "metadata": {},
   "outputs": [],
   "source": [
    "models = pd.DataFrame({\n",
    "    'Model': ['LogisticRegression', 'DecisionTree', 'RandomForest', \n",
    "              'ExtraTrees', 'KNeighbors', 'Gaussian Naive Bayes', 'XGBoost'], \n",
    "    'Accuracy': [best_lr_cross_val_acc.mean(), best_dt_cross_val_acc.mean(), best_rf_cross_val_acc.mean(), \n",
    "               best_et_cross_val_acc.mean(), best_kn_cross_val_acc.mean(), gnb_cross_val_acc, xgb_cross_val_acc], \n",
    "    'Precision': [best_lr_cross_val_prec.mean(), best_dt_cross_val_prec.mean(), best_rf_cross_val_prec.mean(), \n",
    "               best_et_cross_val_prec.mean(), best_kn_cross_val_prec.mean(), gnb_cross_val_prec, xgb_cross_val_prec], \n",
    "    'Recall': [best_lr_cross_val_rec.mean(), best_dt_cross_val_rec.mean(), best_rf_cross_val_rec.mean(), \n",
    "               best_et_cross_val_rec.mean(), best_kn_cross_val_rec.mean(), gnb_cross_val_rec, xgb_cross_val_rec],\n",
    "    'F1 Score': [best_lr_cross_val_f1.mean(), best_dt_cross_val_f1.mean(), best_rf_cross_val_f1.mean(), \n",
    "               best_et_cross_val_f1.mean(), best_kn_cross_val_f1.mean(), gnb_cross_val_f1, xgb_cross_val_f1]}) "
   ]
  },
  {
   "cell_type": "code",
   "execution_count": 42,
   "metadata": {},
   "outputs": [
    {
     "data": {
      "text/html": [
       "<div>\n",
       "<style scoped>\n",
       "    .dataframe tbody tr th:only-of-type {\n",
       "        vertical-align: middle;\n",
       "    }\n",
       "\n",
       "    .dataframe tbody tr th {\n",
       "        vertical-align: top;\n",
       "    }\n",
       "\n",
       "    .dataframe thead th {\n",
       "        text-align: right;\n",
       "    }\n",
       "</style>\n",
       "<table border=\"1\" class=\"dataframe\">\n",
       "  <thead>\n",
       "    <tr style=\"text-align: right;\">\n",
       "      <th></th>\n",
       "      <th>Model</th>\n",
       "      <th>Accuracy</th>\n",
       "      <th>Precision</th>\n",
       "      <th>Recall</th>\n",
       "      <th>F1 Score</th>\n",
       "    </tr>\n",
       "  </thead>\n",
       "  <tbody>\n",
       "    <tr>\n",
       "      <th>2</th>\n",
       "      <td>RandomForest</td>\n",
       "      <td>0.743732</td>\n",
       "      <td>0.788520</td>\n",
       "      <td>0.806141</td>\n",
       "      <td>0.797228</td>\n",
       "    </tr>\n",
       "    <tr>\n",
       "      <th>6</th>\n",
       "      <td>XGBoost</td>\n",
       "      <td>0.741964</td>\n",
       "      <td>0.785458</td>\n",
       "      <td>0.807718</td>\n",
       "      <td>0.796431</td>\n",
       "    </tr>\n",
       "    <tr>\n",
       "      <th>3</th>\n",
       "      <td>ExtraTrees</td>\n",
       "      <td>0.736340</td>\n",
       "      <td>0.783292</td>\n",
       "      <td>0.799230</td>\n",
       "      <td>0.791172</td>\n",
       "    </tr>\n",
       "    <tr>\n",
       "      <th>1</th>\n",
       "      <td>DecisionTree</td>\n",
       "      <td>0.733094</td>\n",
       "      <td>0.776510</td>\n",
       "      <td>0.804448</td>\n",
       "      <td>0.790225</td>\n",
       "    </tr>\n",
       "    <tr>\n",
       "      <th>0</th>\n",
       "      <td>LogisticRegression</td>\n",
       "      <td>0.730891</td>\n",
       "      <td>0.764162</td>\n",
       "      <td>0.823558</td>\n",
       "      <td>0.792742</td>\n",
       "    </tr>\n",
       "    <tr>\n",
       "      <th>5</th>\n",
       "      <td>Gaussian Naive Bayes</td>\n",
       "      <td>0.697122</td>\n",
       "      <td>0.776986</td>\n",
       "      <td>0.722813</td>\n",
       "      <td>0.748913</td>\n",
       "    </tr>\n",
       "    <tr>\n",
       "      <th>4</th>\n",
       "      <td>KNeighbors</td>\n",
       "      <td>0.695730</td>\n",
       "      <td>0.747307</td>\n",
       "      <td>0.775250</td>\n",
       "      <td>0.761017</td>\n",
       "    </tr>\n",
       "  </tbody>\n",
       "</table>\n",
       "</div>"
      ],
      "text/plain": [
       "                  Model  Accuracy  Precision    Recall  F1 Score\n",
       "2          RandomForest  0.743732   0.788520  0.806141  0.797228\n",
       "6               XGBoost  0.741964   0.785458  0.807718  0.796431\n",
       "3            ExtraTrees  0.736340   0.783292  0.799230  0.791172\n",
       "1          DecisionTree  0.733094   0.776510  0.804448  0.790225\n",
       "0    LogisticRegression  0.730891   0.764162  0.823558  0.792742\n",
       "5  Gaussian Naive Bayes  0.697122   0.776986  0.722813  0.748913\n",
       "4            KNeighbors  0.695730   0.747307  0.775250  0.761017"
      ]
     },
     "execution_count": 42,
     "metadata": {},
     "output_type": "execute_result"
    }
   ],
   "source": [
    "models.sort_values('Accuracy', ascending=False)"
   ]
  },
  {
   "cell_type": "code",
   "execution_count": 43,
   "metadata": {},
   "outputs": [
    {
     "data": {
      "text/html": [
       "<div>\n",
       "<style scoped>\n",
       "    .dataframe tbody tr th:only-of-type {\n",
       "        vertical-align: middle;\n",
       "    }\n",
       "\n",
       "    .dataframe tbody tr th {\n",
       "        vertical-align: top;\n",
       "    }\n",
       "\n",
       "    .dataframe thead th {\n",
       "        text-align: right;\n",
       "    }\n",
       "</style>\n",
       "<table border=\"1\" class=\"dataframe\">\n",
       "  <thead>\n",
       "    <tr style=\"text-align: right;\">\n",
       "      <th></th>\n",
       "      <th>Model</th>\n",
       "      <th>Accuracy</th>\n",
       "      <th>Precision</th>\n",
       "      <th>Recall</th>\n",
       "      <th>F1 Score</th>\n",
       "    </tr>\n",
       "  </thead>\n",
       "  <tbody>\n",
       "    <tr>\n",
       "      <th>2</th>\n",
       "      <td>RandomForest</td>\n",
       "      <td>0.743732</td>\n",
       "      <td>0.788520</td>\n",
       "      <td>0.806141</td>\n",
       "      <td>0.797228</td>\n",
       "    </tr>\n",
       "    <tr>\n",
       "      <th>6</th>\n",
       "      <td>XGBoost</td>\n",
       "      <td>0.741964</td>\n",
       "      <td>0.785458</td>\n",
       "      <td>0.807718</td>\n",
       "      <td>0.796431</td>\n",
       "    </tr>\n",
       "    <tr>\n",
       "      <th>3</th>\n",
       "      <td>ExtraTrees</td>\n",
       "      <td>0.736340</td>\n",
       "      <td>0.783292</td>\n",
       "      <td>0.799230</td>\n",
       "      <td>0.791172</td>\n",
       "    </tr>\n",
       "    <tr>\n",
       "      <th>5</th>\n",
       "      <td>Gaussian Naive Bayes</td>\n",
       "      <td>0.697122</td>\n",
       "      <td>0.776986</td>\n",
       "      <td>0.722813</td>\n",
       "      <td>0.748913</td>\n",
       "    </tr>\n",
       "    <tr>\n",
       "      <th>1</th>\n",
       "      <td>DecisionTree</td>\n",
       "      <td>0.733094</td>\n",
       "      <td>0.776510</td>\n",
       "      <td>0.804448</td>\n",
       "      <td>0.790225</td>\n",
       "    </tr>\n",
       "    <tr>\n",
       "      <th>0</th>\n",
       "      <td>LogisticRegression</td>\n",
       "      <td>0.730891</td>\n",
       "      <td>0.764162</td>\n",
       "      <td>0.823558</td>\n",
       "      <td>0.792742</td>\n",
       "    </tr>\n",
       "    <tr>\n",
       "      <th>4</th>\n",
       "      <td>KNeighbors</td>\n",
       "      <td>0.695730</td>\n",
       "      <td>0.747307</td>\n",
       "      <td>0.775250</td>\n",
       "      <td>0.761017</td>\n",
       "    </tr>\n",
       "  </tbody>\n",
       "</table>\n",
       "</div>"
      ],
      "text/plain": [
       "                  Model  Accuracy  Precision    Recall  F1 Score\n",
       "2          RandomForest  0.743732   0.788520  0.806141  0.797228\n",
       "6               XGBoost  0.741964   0.785458  0.807718  0.796431\n",
       "3            ExtraTrees  0.736340   0.783292  0.799230  0.791172\n",
       "5  Gaussian Naive Bayes  0.697122   0.776986  0.722813  0.748913\n",
       "1          DecisionTree  0.733094   0.776510  0.804448  0.790225\n",
       "0    LogisticRegression  0.730891   0.764162  0.823558  0.792742\n",
       "4            KNeighbors  0.695730   0.747307  0.775250  0.761017"
      ]
     },
     "execution_count": 43,
     "metadata": {},
     "output_type": "execute_result"
    }
   ],
   "source": [
    "models.sort_values('Precision', ascending=False)"
   ]
  },
  {
   "cell_type": "code",
   "execution_count": 44,
   "metadata": {},
   "outputs": [
    {
     "data": {
      "text/html": [
       "<div>\n",
       "<style scoped>\n",
       "    .dataframe tbody tr th:only-of-type {\n",
       "        vertical-align: middle;\n",
       "    }\n",
       "\n",
       "    .dataframe tbody tr th {\n",
       "        vertical-align: top;\n",
       "    }\n",
       "\n",
       "    .dataframe thead th {\n",
       "        text-align: right;\n",
       "    }\n",
       "</style>\n",
       "<table border=\"1\" class=\"dataframe\">\n",
       "  <thead>\n",
       "    <tr style=\"text-align: right;\">\n",
       "      <th></th>\n",
       "      <th>Model</th>\n",
       "      <th>Accuracy</th>\n",
       "      <th>Precision</th>\n",
       "      <th>Recall</th>\n",
       "      <th>F1 Score</th>\n",
       "    </tr>\n",
       "  </thead>\n",
       "  <tbody>\n",
       "    <tr>\n",
       "      <th>2</th>\n",
       "      <td>RandomForest</td>\n",
       "      <td>0.743732</td>\n",
       "      <td>0.788520</td>\n",
       "      <td>0.806141</td>\n",
       "      <td>0.797228</td>\n",
       "    </tr>\n",
       "    <tr>\n",
       "      <th>6</th>\n",
       "      <td>XGBoost</td>\n",
       "      <td>0.741964</td>\n",
       "      <td>0.785458</td>\n",
       "      <td>0.807718</td>\n",
       "      <td>0.796431</td>\n",
       "    </tr>\n",
       "    <tr>\n",
       "      <th>0</th>\n",
       "      <td>LogisticRegression</td>\n",
       "      <td>0.730891</td>\n",
       "      <td>0.764162</td>\n",
       "      <td>0.823558</td>\n",
       "      <td>0.792742</td>\n",
       "    </tr>\n",
       "    <tr>\n",
       "      <th>3</th>\n",
       "      <td>ExtraTrees</td>\n",
       "      <td>0.736340</td>\n",
       "      <td>0.783292</td>\n",
       "      <td>0.799230</td>\n",
       "      <td>0.791172</td>\n",
       "    </tr>\n",
       "    <tr>\n",
       "      <th>1</th>\n",
       "      <td>DecisionTree</td>\n",
       "      <td>0.733094</td>\n",
       "      <td>0.776510</td>\n",
       "      <td>0.804448</td>\n",
       "      <td>0.790225</td>\n",
       "    </tr>\n",
       "    <tr>\n",
       "      <th>4</th>\n",
       "      <td>KNeighbors</td>\n",
       "      <td>0.695730</td>\n",
       "      <td>0.747307</td>\n",
       "      <td>0.775250</td>\n",
       "      <td>0.761017</td>\n",
       "    </tr>\n",
       "    <tr>\n",
       "      <th>5</th>\n",
       "      <td>Gaussian Naive Bayes</td>\n",
       "      <td>0.697122</td>\n",
       "      <td>0.776986</td>\n",
       "      <td>0.722813</td>\n",
       "      <td>0.748913</td>\n",
       "    </tr>\n",
       "  </tbody>\n",
       "</table>\n",
       "</div>"
      ],
      "text/plain": [
       "                  Model  Accuracy  Precision    Recall  F1 Score\n",
       "2          RandomForest  0.743732   0.788520  0.806141  0.797228\n",
       "6               XGBoost  0.741964   0.785458  0.807718  0.796431\n",
       "0    LogisticRegression  0.730891   0.764162  0.823558  0.792742\n",
       "3            ExtraTrees  0.736340   0.783292  0.799230  0.791172\n",
       "1          DecisionTree  0.733094   0.776510  0.804448  0.790225\n",
       "4            KNeighbors  0.695730   0.747307  0.775250  0.761017\n",
       "5  Gaussian Naive Bayes  0.697122   0.776986  0.722813  0.748913"
      ]
     },
     "execution_count": 44,
     "metadata": {},
     "output_type": "execute_result"
    }
   ],
   "source": [
    "models.sort_values('F1 Score', ascending=False)"
   ]
  },
  {
   "cell_type": "code",
   "execution_count": 45,
   "metadata": {},
   "outputs": [
    {
     "data": {
      "text/html": [
       "<div>\n",
       "<style scoped>\n",
       "    .dataframe tbody tr th:only-of-type {\n",
       "        vertical-align: middle;\n",
       "    }\n",
       "\n",
       "    .dataframe tbody tr th {\n",
       "        vertical-align: top;\n",
       "    }\n",
       "\n",
       "    .dataframe thead th {\n",
       "        text-align: right;\n",
       "    }\n",
       "</style>\n",
       "<table border=\"1\" class=\"dataframe\">\n",
       "  <thead>\n",
       "    <tr style=\"text-align: right;\">\n",
       "      <th></th>\n",
       "      <th>Model</th>\n",
       "      <th>Accuracy</th>\n",
       "      <th>Precision</th>\n",
       "      <th>Recall</th>\n",
       "      <th>F1 Score</th>\n",
       "    </tr>\n",
       "  </thead>\n",
       "  <tbody>\n",
       "    <tr>\n",
       "      <th>0</th>\n",
       "      <td>LogisticRegression</td>\n",
       "      <td>0.730891</td>\n",
       "      <td>0.764162</td>\n",
       "      <td>0.823558</td>\n",
       "      <td>0.792742</td>\n",
       "    </tr>\n",
       "    <tr>\n",
       "      <th>6</th>\n",
       "      <td>XGBoost</td>\n",
       "      <td>0.741964</td>\n",
       "      <td>0.785458</td>\n",
       "      <td>0.807718</td>\n",
       "      <td>0.796431</td>\n",
       "    </tr>\n",
       "    <tr>\n",
       "      <th>2</th>\n",
       "      <td>RandomForest</td>\n",
       "      <td>0.743732</td>\n",
       "      <td>0.788520</td>\n",
       "      <td>0.806141</td>\n",
       "      <td>0.797228</td>\n",
       "    </tr>\n",
       "    <tr>\n",
       "      <th>1</th>\n",
       "      <td>DecisionTree</td>\n",
       "      <td>0.733094</td>\n",
       "      <td>0.776510</td>\n",
       "      <td>0.804448</td>\n",
       "      <td>0.790225</td>\n",
       "    </tr>\n",
       "    <tr>\n",
       "      <th>3</th>\n",
       "      <td>ExtraTrees</td>\n",
       "      <td>0.736340</td>\n",
       "      <td>0.783292</td>\n",
       "      <td>0.799230</td>\n",
       "      <td>0.791172</td>\n",
       "    </tr>\n",
       "    <tr>\n",
       "      <th>4</th>\n",
       "      <td>KNeighbors</td>\n",
       "      <td>0.695730</td>\n",
       "      <td>0.747307</td>\n",
       "      <td>0.775250</td>\n",
       "      <td>0.761017</td>\n",
       "    </tr>\n",
       "    <tr>\n",
       "      <th>5</th>\n",
       "      <td>Gaussian Naive Bayes</td>\n",
       "      <td>0.697122</td>\n",
       "      <td>0.776986</td>\n",
       "      <td>0.722813</td>\n",
       "      <td>0.748913</td>\n",
       "    </tr>\n",
       "  </tbody>\n",
       "</table>\n",
       "</div>"
      ],
      "text/plain": [
       "                  Model  Accuracy  Precision    Recall  F1 Score\n",
       "0    LogisticRegression  0.730891   0.764162  0.823558  0.792742\n",
       "6               XGBoost  0.741964   0.785458  0.807718  0.796431\n",
       "2          RandomForest  0.743732   0.788520  0.806141  0.797228\n",
       "1          DecisionTree  0.733094   0.776510  0.804448  0.790225\n",
       "3            ExtraTrees  0.736340   0.783292  0.799230  0.791172\n",
       "4            KNeighbors  0.695730   0.747307  0.775250  0.761017\n",
       "5  Gaussian Naive Bayes  0.697122   0.776986  0.722813  0.748913"
      ]
     },
     "execution_count": 45,
     "metadata": {},
     "output_type": "execute_result"
    }
   ],
   "source": [
    "models.sort_values('Recall', ascending=False)"
   ]
  },
  {
   "cell_type": "markdown",
   "metadata": {},
   "source": [
    "## Final Model"
   ]
  },
  {
   "cell_type": "code",
   "execution_count": 46,
   "metadata": {},
   "outputs": [
    {
     "data": {
      "text/plain": [
       "Pipeline(steps=[('columntransformer',\n",
       "                 ColumnTransformer(transformers=[('onehotencoder',\n",
       "                                                  OneHotEncoder(),\n",
       "                                                  <sklearn.compose._column_transformer.make_column_selector object at 0x7f7f6b59e160>),\n",
       "                                                 ('standardscaler',\n",
       "                                                  StandardScaler(),\n",
       "                                                  <sklearn.compose._column_transformer.make_column_selector object at 0x7f7f6b59ec10>)])),\n",
       "                ('randomforestclassifier',\n",
       "                 RandomForestClassifier(max_depth=10, n_estimators=2000,\n",
       "                                        random_state=2020))])"
      ]
     },
     "execution_count": 46,
     "metadata": {},
     "output_type": "execute_result"
    }
   ],
   "source": [
    "# refit training data onto best model\n",
    "best_rf_pipeline.fit(X_train, y_train)"
   ]
  },
  {
   "cell_type": "code",
   "execution_count": 47,
   "metadata": {},
   "outputs": [],
   "source": [
    "rf_cross_val_acc_test = cross_val_score(best_rf_pipeline, X_test, y_test, scoring='accuracy').mean()\n",
    "rf_cross_val_prec_test = cross_val_score(best_rf_pipeline, X_test, y_test, scoring='precision').mean()\n",
    "rf_cross_val_rec_test = cross_val_score(best_rf_pipeline, X_test, y_test, scoring='recall').mean()\n",
    "rf_cross_val_f1_test = cross_val_score(best_rf_pipeline, X_test, y_test, scoring='f1').mean()"
   ]
  },
  {
   "cell_type": "code",
   "execution_count": 49,
   "metadata": {},
   "outputs": [],
   "source": [
    "final_model_comp = pd.DataFrame({\n",
    "    'Model': ['RandomForest Train', 'RandomForest Test'], \n",
    "    'Accuracy': [best_rf_cross_val_acc.mean(), rf_cross_val_acc_test], \n",
    "    'Precision': [best_rf_cross_val_prec.mean(), rf_cross_val_prec_test], \n",
    "    'Recall': [best_rf_cross_val_rec.mean(), rf_cross_val_rec_test],\n",
    "    'F1 Score': [best_rf_cross_val_f1.mean(), rf_cross_val_f1_test]}) "
   ]
  },
  {
   "cell_type": "code",
   "execution_count": 50,
   "metadata": {},
   "outputs": [
    {
     "data": {
      "text/html": [
       "<div>\n",
       "<style scoped>\n",
       "    .dataframe tbody tr th:only-of-type {\n",
       "        vertical-align: middle;\n",
       "    }\n",
       "\n",
       "    .dataframe tbody tr th {\n",
       "        vertical-align: top;\n",
       "    }\n",
       "\n",
       "    .dataframe thead th {\n",
       "        text-align: right;\n",
       "    }\n",
       "</style>\n",
       "<table border=\"1\" class=\"dataframe\">\n",
       "  <thead>\n",
       "    <tr style=\"text-align: right;\">\n",
       "      <th></th>\n",
       "      <th>Model</th>\n",
       "      <th>Accuracy</th>\n",
       "      <th>Precision</th>\n",
       "      <th>Recall</th>\n",
       "      <th>F1 Score</th>\n",
       "    </tr>\n",
       "  </thead>\n",
       "  <tbody>\n",
       "    <tr>\n",
       "      <th>0</th>\n",
       "      <td>RandomForest Train</td>\n",
       "      <td>0.743732</td>\n",
       "      <td>0.788520</td>\n",
       "      <td>0.806141</td>\n",
       "      <td>0.797228</td>\n",
       "    </tr>\n",
       "    <tr>\n",
       "      <th>1</th>\n",
       "      <td>RandomForest Test</td>\n",
       "      <td>0.740232</td>\n",
       "      <td>0.785132</td>\n",
       "      <td>0.802681</td>\n",
       "      <td>0.793770</td>\n",
       "    </tr>\n",
       "  </tbody>\n",
       "</table>\n",
       "</div>"
      ],
      "text/plain": [
       "                Model  Accuracy  Precision    Recall  F1 Score\n",
       "0  RandomForest Train  0.743732   0.788520  0.806141  0.797228\n",
       "1   RandomForest Test  0.740232   0.785132  0.802681  0.793770"
      ]
     },
     "execution_count": 50,
     "metadata": {},
     "output_type": "execute_result"
    }
   ],
   "source": [
    "final_model_comp"
   ]
  },
  {
   "cell_type": "markdown",
   "metadata": {},
   "source": [
    "## RandomForest Feature Importance"
   ]
  },
  {
   "cell_type": "code",
   "execution_count": 51,
   "metadata": {},
   "outputs": [],
   "source": [
    "feat_imp_df = pd.DataFrame(best_rf_pipeline.steps[1][1].feature_importances_.round(decimals=3), index=X_train.columns)"
   ]
  },
  {
   "cell_type": "code",
   "execution_count": 52,
   "metadata": {},
   "outputs": [],
   "source": [
    "feat_imp_df.rename({0: 'Importance'}, axis=1, inplace=True)"
   ]
  },
  {
   "cell_type": "code",
   "execution_count": 53,
   "metadata": {},
   "outputs": [],
   "source": [
    "feat_imp_df = feat_imp_df.sort_values(by='Importance', ascending=True)"
   ]
  },
  {
   "cell_type": "code",
   "execution_count": 54,
   "metadata": {},
   "outputs": [
    {
     "data": {
      "text/html": [
       "<div>\n",
       "<style scoped>\n",
       "    .dataframe tbody tr th:only-of-type {\n",
       "        vertical-align: middle;\n",
       "    }\n",
       "\n",
       "    .dataframe tbody tr th {\n",
       "        vertical-align: top;\n",
       "    }\n",
       "\n",
       "    .dataframe thead th {\n",
       "        text-align: right;\n",
       "    }\n",
       "</style>\n",
       "<table border=\"1\" class=\"dataframe\">\n",
       "  <thead>\n",
       "    <tr style=\"text-align: right;\">\n",
       "      <th></th>\n",
       "      <th>Importance</th>\n",
       "    </tr>\n",
       "  </thead>\n",
       "  <tbody>\n",
       "    <tr>\n",
       "      <th>goal_to_go</th>\n",
       "      <td>0.002</td>\n",
       "    </tr>\n",
       "    <tr>\n",
       "      <th>no_huddle</th>\n",
       "      <td>0.005</td>\n",
       "    </tr>\n",
       "    <tr>\n",
       "      <th>defteam_timeouts_remaining</th>\n",
       "      <td>0.005</td>\n",
       "    </tr>\n",
       "    <tr>\n",
       "      <th>posteam_timeouts_remaining</th>\n",
       "      <td>0.008</td>\n",
       "    </tr>\n",
       "    <tr>\n",
       "      <th>qtr</th>\n",
       "      <td>0.009</td>\n",
       "    </tr>\n",
       "    <tr>\n",
       "      <th>drive</th>\n",
       "      <td>0.014</td>\n",
       "    </tr>\n",
       "    <tr>\n",
       "      <th>posteam_score</th>\n",
       "      <td>0.014</td>\n",
       "    </tr>\n",
       "    <tr>\n",
       "      <th>defteam_score</th>\n",
       "      <td>0.019</td>\n",
       "    </tr>\n",
       "    <tr>\n",
       "      <th>yardline_100</th>\n",
       "      <td>0.026</td>\n",
       "    </tr>\n",
       "    <tr>\n",
       "      <th>quarter_seconds_remaining</th>\n",
       "      <td>0.026</td>\n",
       "    </tr>\n",
       "    <tr>\n",
       "      <th>score_differential</th>\n",
       "      <td>0.033</td>\n",
       "    </tr>\n",
       "    <tr>\n",
       "      <th>game_seconds_remaining</th>\n",
       "      <td>0.038</td>\n",
       "    </tr>\n",
       "    <tr>\n",
       "      <th>half_seconds_remaining</th>\n",
       "      <td>0.053</td>\n",
       "    </tr>\n",
       "    <tr>\n",
       "      <th>wp</th>\n",
       "      <td>0.075</td>\n",
       "    </tr>\n",
       "    <tr>\n",
       "      <th>ydstogo</th>\n",
       "      <td>0.118</td>\n",
       "    </tr>\n",
       "    <tr>\n",
       "      <th>down</th>\n",
       "      <td>0.135</td>\n",
       "    </tr>\n",
       "    <tr>\n",
       "      <th>shotgun</th>\n",
       "      <td>0.420</td>\n",
       "    </tr>\n",
       "  </tbody>\n",
       "</table>\n",
       "</div>"
      ],
      "text/plain": [
       "                            Importance\n",
       "goal_to_go                       0.002\n",
       "no_huddle                        0.005\n",
       "defteam_timeouts_remaining       0.005\n",
       "posteam_timeouts_remaining       0.008\n",
       "qtr                              0.009\n",
       "drive                            0.014\n",
       "posteam_score                    0.014\n",
       "defteam_score                    0.019\n",
       "yardline_100                     0.026\n",
       "quarter_seconds_remaining        0.026\n",
       "score_differential               0.033\n",
       "game_seconds_remaining           0.038\n",
       "half_seconds_remaining           0.053\n",
       "wp                               0.075\n",
       "ydstogo                          0.118\n",
       "down                             0.135\n",
       "shotgun                          0.420"
      ]
     },
     "execution_count": 54,
     "metadata": {},
     "output_type": "execute_result"
    }
   ],
   "source": [
    "feat_imp_df"
   ]
  },
  {
   "cell_type": "code",
   "execution_count": 101,
   "metadata": {},
   "outputs": [
    {
     "name": "stderr",
     "output_type": "stream",
     "text": [
      "<ipython-input-101-62ba9ed3a64c>:5: UserWarning: FixedFormatter should only be used together with FixedLocator\n",
      "  ax.set_yticklabels(feat_imp_df.index, fontsize=15)\n",
      "<ipython-input-101-62ba9ed3a64c>:6: UserWarning: FixedFormatter should only be used together with FixedLocator\n",
      "  ax.set_xticklabels(feat_imp_df.Importance, fontsize=15)\n"
     ]
    },
    {
     "data": {
      "image/png": "[encoded data removed]",
      "text/plain": [
       "<Figure size 1440x720 with 1 Axes>"
      ]
     },
     "metadata": {
      "needs_background": "light"
     },
     "output_type": "display_data"
    }
   ],
   "source": [
    "fig,ax = plt.subplots(figsize=(20,10))\n",
    "plt.barh(feat_imp_df.index, feat_imp_df.Importance, color='g')\n",
    "#plt.title('Run/Pass Feature Importance', fontsize=25)\n",
    "plt.xlabel('Importance', fontsize=20)\n",
    "ax.set_yticklabels(feat_imp_df.index, fontsize=15)\n",
    "ax.set_xticklabels(feat_imp_df.Importance, fontsize=15)\n",
    "\n",
    "plt.savefig('run_pass_features_2.png')\n",
    "plt.show()"
   ]
  },
  {
   "cell_type": "code",
   "execution_count": 72,
   "metadata": {},
   "outputs": [
    {
     "ename": "NameError",
     "evalue": "name 'ax' is not defined",
     "output_type": "error",
     "traceback": [
      "\u001b[0;31m---------------------------------------------------------------------------\u001b[0m",
      "\u001b[0;31mNameError\u001b[0m                                 Traceback (most recent call last)",
      "\u001b[0;32m<ipython-input-72-e1b3f820bf81>\u001b[0m in \u001b[0;36m<module>\u001b[0;34m\u001b[0m\n\u001b[1;32m      4\u001b[0m \u001b[0mplt\u001b[0m\u001b[0;34m.\u001b[0m\u001b[0mbarh\u001b[0m\u001b[0;34m(\u001b[0m\u001b[0mfeat_imp_df\u001b[0m\u001b[0;34m.\u001b[0m\u001b[0mindex\u001b[0m\u001b[0;34m,\u001b[0m \u001b[0mfeat_imp_df\u001b[0m\u001b[0;34m.\u001b[0m\u001b[0mImportance\u001b[0m\u001b[0;34m,\u001b[0m \u001b[0mcolor\u001b[0m\u001b[0;34m=\u001b[0m\u001b[0;34m'g'\u001b[0m\u001b[0;34m)\u001b[0m\u001b[0;34m\u001b[0m\u001b[0;34m\u001b[0m\u001b[0m\n\u001b[1;32m      5\u001b[0m \u001b[0mplt\u001b[0m\u001b[0;34m.\u001b[0m\u001b[0mxlabel\u001b[0m\u001b[0;34m(\u001b[0m\u001b[0;34m'Importance'\u001b[0m\u001b[0;34m,\u001b[0m \u001b[0mfontsize\u001b[0m\u001b[0;34m=\u001b[0m\u001b[0;36m15\u001b[0m\u001b[0;34m)\u001b[0m\u001b[0;34m\u001b[0m\u001b[0;34m\u001b[0m\u001b[0m\n\u001b[0;32m----> 6\u001b[0;31m \u001b[0max\u001b[0m\u001b[0;34m.\u001b[0m\u001b[0mset_xticklabels\u001b[0m\u001b[0;34m(\u001b[0m\u001b[0mfeat_imp_df\u001b[0m\u001b[0;34m.\u001b[0m\u001b[0mindex\u001b[0m\u001b[0;34m,\u001b[0m \u001b[0mfontsize\u001b[0m\u001b[0;34m=\u001b[0m\u001b[0;36m16\u001b[0m\u001b[0;34m)\u001b[0m\u001b[0;34m\u001b[0m\u001b[0;34m\u001b[0m\u001b[0m\n\u001b[0m\u001b[1;32m      7\u001b[0m \u001b[0;31m#plt.title('Run/Pass Feature Importance', fontsize=20)\u001b[0m\u001b[0;34m\u001b[0m\u001b[0;34m\u001b[0m\u001b[0;34m\u001b[0m\u001b[0m\n\u001b[1;32m      8\u001b[0m \u001b[0;34m\u001b[0m\u001b[0m\n",
      "\u001b[0;31mNameError\u001b[0m: name 'ax' is not defined"
     ]
    },
    {
     "data": {
      "image/png": "[encoded data removed]",
      "text/plain": [
       "<Figure size 720x720 with 1 Axes>"
      ]
     },
     "metadata": {
      "needs_background": "light"
     },
     "output_type": "display_data"
    }
   ],
   "source": [
    "plt.figure(figsize=(10,10))\n",
    "plt.barh(feat_imp_df.index, feat_imp_df.Importance, color='g')\n",
    "plt.xlabel('Importance', fontsize=15)\n",
    "#plt.title('Run/Pass Feature Importance', fontsize=20)\n",
    "\n",
    "plt.savefig('run_pass_features.png')\n",
    "plt.show()"
   ]
  },
  {
   "cell_type": "markdown",
   "metadata": {},
   "source": [
    "## Confusion Matrix"
   ]
  },
  {
   "cell_type": "code",
   "execution_count": 56,
   "metadata": {},
   "outputs": [
    {
     "ename": "NameError",
     "evalue": "name 'pred' is not defined",
     "output_type": "error",
     "traceback": [
      "\u001b[0;31m---------------------------------------------------------------------------\u001b[0m",
      "\u001b[0;31mNameError\u001b[0m                                 Traceback (most recent call last)",
      "\u001b[0;32m<ipython-input-56-072360b4ecd6>\u001b[0m in \u001b[0;36m<module>\u001b[0;34m\u001b[0m\n\u001b[1;32m      1\u001b[0m \u001b[0mlabels\u001b[0m \u001b[0;34m=\u001b[0m \u001b[0;34m[\u001b[0m\u001b[0;34m'pass'\u001b[0m\u001b[0;34m,\u001b[0m \u001b[0;34m'run'\u001b[0m\u001b[0;34m]\u001b[0m\u001b[0;34m\u001b[0m\u001b[0;34m\u001b[0m\u001b[0m\n\u001b[0;32m----> 2\u001b[0;31m \u001b[0mcm\u001b[0m \u001b[0;34m=\u001b[0m \u001b[0mconfusion_matrix\u001b[0m\u001b[0;34m(\u001b[0m\u001b[0my_test\u001b[0m\u001b[0;34m,\u001b[0m \u001b[0mpred\u001b[0m\u001b[0;34m,\u001b[0m \u001b[0mlabels\u001b[0m\u001b[0;34m)\u001b[0m\u001b[0;34m\u001b[0m\u001b[0;34m\u001b[0m\u001b[0m\n\u001b[0m\u001b[1;32m      3\u001b[0m \u001b[0mprint\u001b[0m\u001b[0;34m(\u001b[0m\u001b[0mcm\u001b[0m\u001b[0;34m)\u001b[0m\u001b[0;34m\u001b[0m\u001b[0;34m\u001b[0m\u001b[0m\n\u001b[1;32m      4\u001b[0m \u001b[0mfig\u001b[0m \u001b[0;34m=\u001b[0m \u001b[0mplt\u001b[0m\u001b[0;34m.\u001b[0m\u001b[0mfigure\u001b[0m\u001b[0;34m(\u001b[0m\u001b[0;34m)\u001b[0m\u001b[0;34m\u001b[0m\u001b[0;34m\u001b[0m\u001b[0m\n\u001b[1;32m      5\u001b[0m \u001b[0max\u001b[0m \u001b[0;34m=\u001b[0m \u001b[0mfig\u001b[0m\u001b[0;34m.\u001b[0m\u001b[0madd_subplot\u001b[0m\u001b[0;34m(\u001b[0m\u001b[0;36m111\u001b[0m\u001b[0;34m)\u001b[0m\u001b[0;34m\u001b[0m\u001b[0;34m\u001b[0m\u001b[0m\n",
      "\u001b[0;31mNameError\u001b[0m: name 'pred' is not defined"
     ]
    }
   ],
   "source": [
    "labels = ['pass', 'run']\n",
    "cm = confusion_matrix(y_test, pred, labels)\n",
    "print(cm)\n",
    "fig = plt.figure()\n",
    "ax = fig.add_subplot(111)\n",
    "cax = ax.matshow(cm)\n",
    "plt.title('Confusion matrix of the classifier')\n",
    "fig.colorbar(cax)\n",
    "ax.set_xticklabels([''] + labels)\n",
    "ax.set_yticklabels([''] + labels)\n",
    "plt.xlabel('Predicted')\n",
    "plt.ylabel('True')\n",
    "plt.show()"
   ]
  },
  {
   "cell_type": "code",
   "execution_count": 69,
   "metadata": {},
   "outputs": [],
   "source": [
    "y_hat_test_rf = best_rf_pipeline.predict(X_test)"
   ]
  },
  {
   "cell_type": "code",
   "execution_count": 73,
   "metadata": {},
   "outputs": [
    {
     "name": "stdout",
     "output_type": "stream",
     "text": [
      "[[4099 2407]\n",
      " [2076 8668]]\n"
     ]
    }
   ],
   "source": [
    "labels = ['run', 'pass']\n",
    "run_pass_cm = confusion_matrix(y_test, y_hat_test_rf)\n",
    "print(run_pass_cm)"
   ]
  },
  {
   "cell_type": "code",
   "execution_count": 75,
   "metadata": {},
   "outputs": [
    {
     "name": "stderr",
     "output_type": "stream",
     "text": [
      "<ipython-input-75-2d5f11670843>:7: UserWarning: FixedFormatter should only be used together with FixedLocator\n",
      "  ax.set_xticklabels([''] + labels)\n",
      "<ipython-input-75-2d5f11670843>:8: UserWarning: FixedFormatter should only be used together with FixedLocator\n",
      "  ax.set_yticklabels([''] + labels)\n"
     ]
    },
    {
     "data": {
      "image/png": "[encoded data removed]",
      "text/plain": [
       "<Figure size 432x288 with 2 Axes>"
      ]
     },
     "metadata": {
      "needs_background": "light"
     },
     "output_type": "display_data"
    }
   ],
   "source": [
    "fig = plt.figure()\n",
    "ax = fig.add_subplot()\n",
    "cax = ax.matshow(run_pass_cm)\n",
    "\n",
    "plt.title('Run/Pass Confusion Matrix')\n",
    "fig.colorbar(cax)\n",
    "ax.set_xticklabels([''] + labels)\n",
    "ax.set_yticklabels([''] + labels)\n",
    "plt.xlabel('Predicted')\n",
    "plt.ylabel('True')\n",
    "plt.show()"
   ]
  },
  {
   "cell_type": "code",
   "execution_count": 107,
   "metadata": {},
   "outputs": [],
   "source": [
    "from sklearn.metrics import plot_confusion_matrix\n",
    "\n",
    "def confusion_matrix_info(model, X_test, y_test, save_path=None):\n",
    "    '''\n",
    "    Creates a confusion matrix for a given model\n",
    "\n",
    "    Parameters\n",
    "    ----------\n",
    "    model: an estimator\n",
    "\n",
    "    X_test: testing dataset\n",
    "\n",
    "    y_test: training dataset\n",
    "\n",
    "    Returns\n",
    "    -------\n",
    "    A confusion matrix of given model\n",
    "    '''\n",
    "    fig, axes = plt.subplots(figsize=(10,5))\n",
    "\n",
    "    #axes.set_title(\"Model Validation\", fontsize=20)\n",
    "    x_tick_marks = ['Predicted Run Play', 'Predicted Pass Play']\n",
    "    y_tick_marks = ['Actual Run Play', 'Actual Pass Play']\n",
    "    \n",
    "    plot_confusion_matrix(model, X_test, y_test, ax=axes, cmap='Greens', display_labels=y_tick_marks)\n",
    "\n",
    "    plt.xticks([0,1], x_tick_marks)\n",
    "    axes.set_xlabel('')\n",
    "    axes.set_ylabel('')\n",
    "\n",
    "    SMALL_SIZE = 8\n",
    "    MEDIUM_SIZE = 10\n",
    "    BIGGER_SIZE = 12\n",
    "    plt.rc('font', size=SMALL_SIZE)          \n",
    "    plt.rc('axes', titlesize=SMALL_SIZE)     \n",
    "    plt.rc('axes', labelsize=MEDIUM_SIZE)    \n",
    "    plt.rc('xtick', labelsize=SMALL_SIZE)   \n",
    "    plt.rc('ytick', labelsize=SMALL_SIZE)   \n",
    "    plt.rc('legend', fontsize=SMALL_SIZE)   \n",
    "    plt.rc('figure', titlesize=BIGGER_SIZE)\n",
    "    \n",
    "    plt.tight_layout()\n",
    "    confusion_matrix = plt.show()\n",
    "\n",
    "    if save_path:\n",
    "        plt.savefig(save_path, transparent=True)\n",
    "\n",
    "    return confusion_matrix, fig\n",
    "\n"
   ]
  },
  {
   "cell_type": "code",
   "execution_count": 108,
   "metadata": {},
   "outputs": [
    {
     "data": {
      "image/png": "[encoded data removed]",
      "text/plain": [
       "<Figure size 720x360 with 2 Axes>"
      ]
     },
     "metadata": {
      "needs_background": "light"
     },
     "output_type": "display_data"
    },
    {
     "data": {
      "text/plain": [
       "(None, <Figure size 720x360 with 2 Axes>)"
      ]
     },
     "execution_count": 108,
     "metadata": {},
     "output_type": "execute_result"
    },
    {
     "data": {
      "text/plain": [
       "<Figure size 432x288 with 0 Axes>"
      ]
     },
     "metadata": {},
     "output_type": "display_data"
    }
   ],
   "source": [
    "confusion_matrix_info(best_rf_pipeline, X_test, y_test, save_path='confusion_matrix.png')"
   ]
  },
  {
   "cell_type": "code",
   "execution_count": null,
   "metadata": {},
   "outputs": [],
   "source": []
  }
 ],
 "metadata": {
  "kernelspec": {
   "display_name": "learn-env-2",
   "language": "python",
   "name": "learn-env-2"
  },
  "language_info": {
   "codemirror_mode": {
    "name": "ipython",
    "version": 3
   },
   "file_extension": ".py",
   "mimetype": "text/x-python",
   "name": "python",
   "nbconvert_exporter": "python",
   "pygments_lexer": "ipython3",
   "version": "3.8.5"
  }
 },
 "nbformat": 4,
 "nbformat_minor": 4
}
