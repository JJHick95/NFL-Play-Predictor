{
 "cells": [
  {
   "cell_type": "markdown",
   "metadata": {},
   "source": [
    "## Import Libraries"
   ]
  },
  {
   "cell_type": "code",
   "execution_count": 1,
   "metadata": {},
   "outputs": [],
   "source": [
    "# importing data\n",
    "import pandas as pd\n",
    "\n",
    "# train_test_split & cross validation\n",
    "from sklearn.model_selection import train_test_split, cross_val_score\n",
    "from sklearn.metrics import accuracy_score, precision_score, recall_score,f1_score\n",
    "\n",
    "# creating piplines\n",
    "from sklearn.compose import make_column_selector, make_column_transformer\n",
    "from sklearn.preprocessing import StandardScaler, OneHotEncoder\n",
    "from sklearn.model_selection import GridSearchCV\n",
    "from imblearn.pipeline import make_pipeline, Pipeline\n",
    "from imblearn.over_sampling import SMOTE\n",
    "\n",
    "# machine learning algorithms\n",
    "from sklearn.tree import DecisionTreeClassifier\n",
    "from sklearn.ensemble import RandomForestClassifier, ExtraTreesClassifier\n",
    "from sklearn.linear_model import LogisticRegression\n",
    "from sklearn.naive_bayes import GaussianNB\n",
    "from sklearn.neighbors import KNeighborsClassifier\n",
    "import xgboost as xgb\n",
    "\n",
    "# making graphs\n",
    "import matplotlib.pyplot as plt\n",
    "import seaborn as sns\n",
    "from sklearn.metrics import confusion_matrix\n",
    "\n",
    "import numpy as np"
   ]
  },
  {
   "cell_type": "markdown",
   "metadata": {},
   "source": [
    "## Import Data"
   ]
  },
  {
   "cell_type": "code",
   "execution_count": 2,
   "metadata": {},
   "outputs": [],
   "source": [
    "df = pd.read_pickle('run_pass_df.pkl')"
   ]
  },
  {
   "cell_type": "code",
   "execution_count": 3,
   "metadata": {},
   "outputs": [
    {
     "data": {
      "text/html": [
       "<div>\n",
       "<style scoped>\n",
       "    .dataframe tbody tr th:only-of-type {\n",
       "        vertical-align: middle;\n",
       "    }\n",
       "\n",
       "    .dataframe tbody tr th {\n",
       "        vertical-align: top;\n",
       "    }\n",
       "\n",
       "    .dataframe thead th {\n",
       "        text-align: right;\n",
       "    }\n",
       "</style>\n",
       "<table border=\"1\" class=\"dataframe\">\n",
       "  <thead>\n",
       "    <tr style=\"text-align: right;\">\n",
       "      <th></th>\n",
       "      <th>yardline_100</th>\n",
       "      <th>quarter_seconds_remaining</th>\n",
       "      <th>half_seconds_remaining</th>\n",
       "      <th>game_seconds_remaining</th>\n",
       "      <th>drive</th>\n",
       "      <th>qtr</th>\n",
       "      <th>down</th>\n",
       "      <th>goal_to_go</th>\n",
       "      <th>ydstogo</th>\n",
       "      <th>yards_gained</th>\n",
       "      <th>shotgun</th>\n",
       "      <th>no_huddle</th>\n",
       "      <th>posteam_timeouts_remaining</th>\n",
       "      <th>defteam_timeouts_remaining</th>\n",
       "      <th>posteam_score</th>\n",
       "      <th>defteam_score</th>\n",
       "      <th>score_differential</th>\n",
       "      <th>wp</th>\n",
       "      <th>Target</th>\n",
       "    </tr>\n",
       "  </thead>\n",
       "  <tbody>\n",
       "    <tr>\n",
       "      <th>3</th>\n",
       "      <td>80.0</td>\n",
       "      <td>900.0</td>\n",
       "      <td>1800.0</td>\n",
       "      <td>3600.0</td>\n",
       "      <td>1.0</td>\n",
       "      <td>1</td>\n",
       "      <td>1.0</td>\n",
       "      <td>0</td>\n",
       "      <td>15</td>\n",
       "      <td>10.0</td>\n",
       "      <td>0</td>\n",
       "      <td>0</td>\n",
       "      <td>3.0</td>\n",
       "      <td>3.0</td>\n",
       "      <td>0.0</td>\n",
       "      <td>0.0</td>\n",
       "      <td>0.0</td>\n",
       "      <td>0.394005</td>\n",
       "      <td>1</td>\n",
       "    </tr>\n",
       "    <tr>\n",
       "      <th>4</th>\n",
       "      <td>70.0</td>\n",
       "      <td>862.0</td>\n",
       "      <td>1762.0</td>\n",
       "      <td>3562.0</td>\n",
       "      <td>1.0</td>\n",
       "      <td>1</td>\n",
       "      <td>2.0</td>\n",
       "      <td>0</td>\n",
       "      <td>5</td>\n",
       "      <td>11.0</td>\n",
       "      <td>0</td>\n",
       "      <td>0</td>\n",
       "      <td>3.0</td>\n",
       "      <td>3.0</td>\n",
       "      <td>0.0</td>\n",
       "      <td>0.0</td>\n",
       "      <td>0.0</td>\n",
       "      <td>0.432698</td>\n",
       "      <td>0</td>\n",
       "    </tr>\n",
       "    <tr>\n",
       "      <th>5</th>\n",
       "      <td>59.0</td>\n",
       "      <td>826.0</td>\n",
       "      <td>1726.0</td>\n",
       "      <td>3526.0</td>\n",
       "      <td>1.0</td>\n",
       "      <td>1</td>\n",
       "      <td>1.0</td>\n",
       "      <td>0</td>\n",
       "      <td>10</td>\n",
       "      <td>20.0</td>\n",
       "      <td>0</td>\n",
       "      <td>0</td>\n",
       "      <td>3.0</td>\n",
       "      <td>3.0</td>\n",
       "      <td>0.0</td>\n",
       "      <td>0.0</td>\n",
       "      <td>0.0</td>\n",
       "      <td>0.460501</td>\n",
       "      <td>0</td>\n",
       "    </tr>\n",
       "    <tr>\n",
       "      <th>6</th>\n",
       "      <td>39.0</td>\n",
       "      <td>790.0</td>\n",
       "      <td>1690.0</td>\n",
       "      <td>3490.0</td>\n",
       "      <td>1.0</td>\n",
       "      <td>1</td>\n",
       "      <td>1.0</td>\n",
       "      <td>0</td>\n",
       "      <td>10</td>\n",
       "      <td>0.0</td>\n",
       "      <td>0</td>\n",
       "      <td>0</td>\n",
       "      <td>3.0</td>\n",
       "      <td>3.0</td>\n",
       "      <td>0.0</td>\n",
       "      <td>0.0</td>\n",
       "      <td>0.0</td>\n",
       "      <td>0.508720</td>\n",
       "      <td>1</td>\n",
       "    </tr>\n",
       "    <tr>\n",
       "      <th>7</th>\n",
       "      <td>39.0</td>\n",
       "      <td>785.0</td>\n",
       "      <td>1685.0</td>\n",
       "      <td>3485.0</td>\n",
       "      <td>1.0</td>\n",
       "      <td>1</td>\n",
       "      <td>2.0</td>\n",
       "      <td>0</td>\n",
       "      <td>10</td>\n",
       "      <td>0.0</td>\n",
       "      <td>1</td>\n",
       "      <td>0</td>\n",
       "      <td>3.0</td>\n",
       "      <td>3.0</td>\n",
       "      <td>0.0</td>\n",
       "      <td>0.0</td>\n",
       "      <td>0.0</td>\n",
       "      <td>0.489379</td>\n",
       "      <td>1</td>\n",
       "    </tr>\n",
       "  </tbody>\n",
       "</table>\n",
       "</div>"
      ],
      "text/plain": [
       "   yardline_100  quarter_seconds_remaining  half_seconds_remaining  \\\n",
       "3          80.0                      900.0                  1800.0   \n",
       "4          70.0                      862.0                  1762.0   \n",
       "5          59.0                      826.0                  1726.0   \n",
       "6          39.0                      790.0                  1690.0   \n",
       "7          39.0                      785.0                  1685.0   \n",
       "\n",
       "   game_seconds_remaining  drive  qtr  down  goal_to_go  ydstogo  \\\n",
       "3                  3600.0    1.0    1   1.0           0       15   \n",
       "4                  3562.0    1.0    1   2.0           0        5   \n",
       "5                  3526.0    1.0    1   1.0           0       10   \n",
       "6                  3490.0    1.0    1   1.0           0       10   \n",
       "7                  3485.0    1.0    1   2.0           0       10   \n",
       "\n",
       "   yards_gained  shotgun  no_huddle  posteam_timeouts_remaining  \\\n",
       "3          10.0        0          0                         3.0   \n",
       "4          11.0        0          0                         3.0   \n",
       "5          20.0        0          0                         3.0   \n",
       "6           0.0        0          0                         3.0   \n",
       "7           0.0        1          0                         3.0   \n",
       "\n",
       "   defteam_timeouts_remaining  posteam_score  defteam_score  \\\n",
       "3                         3.0            0.0            0.0   \n",
       "4                         3.0            0.0            0.0   \n",
       "5                         3.0            0.0            0.0   \n",
       "6                         3.0            0.0            0.0   \n",
       "7                         3.0            0.0            0.0   \n",
       "\n",
       "   score_differential        wp  Target  \n",
       "3                 0.0  0.394005       1  \n",
       "4                 0.0  0.432698       0  \n",
       "5                 0.0  0.460501       0  \n",
       "6                 0.0  0.508720       1  \n",
       "7                 0.0  0.489379       1  "
      ]
     },
     "execution_count": 3,
     "metadata": {},
     "output_type": "execute_result"
    }
   ],
   "source": [
    "df.head()"
   ]
  },
  {
   "cell_type": "code",
   "execution_count": 4,
   "metadata": {},
   "outputs": [],
   "source": [
    "# drop yards_gained feature as we are only interested in pre-snap information\n",
    "df = df.drop('yards_gained', axis=1)"
   ]
  },
  {
   "cell_type": "markdown",
   "metadata": {},
   "source": [
    "## Prepare Data"
   ]
  },
  {
   "cell_type": "code",
   "execution_count": 5,
   "metadata": {},
   "outputs": [],
   "source": [
    "# prepare for the train_test_split\n",
    "X = df.drop('Target', axis=1)\n",
    "y = df.Target"
   ]
  },
  {
   "cell_type": "code",
   "execution_count": 6,
   "metadata": {},
   "outputs": [],
   "source": [
    "# perform train_test_split\n",
    "X_train, X_test, y_train, y_test = train_test_split(X, y, random_state=2020, test_size=0.20)"
   ]
  },
  {
   "cell_type": "code",
   "execution_count": 7,
   "metadata": {},
   "outputs": [
    {
     "data": {
      "text/plain": [
       "((70476, 17), (17620, 17), (70476,), (17620,))"
      ]
     },
     "execution_count": 7,
     "metadata": {},
     "output_type": "execute_result"
    }
   ],
   "source": [
    "X_train.shape, X_test.shape, y_train.shape, y_test.shape"
   ]
  },
  {
   "cell_type": "markdown",
   "metadata": {},
   "source": [
    "## Making Pipelines"
   ]
  },
  {
   "cell_type": "code",
   "execution_count": 8,
   "metadata": {},
   "outputs": [],
   "source": [
    "# let's create a pipeline to do all of our preprocessing for us"
   ]
  },
  {
   "cell_type": "code",
   "execution_count": 9,
   "metadata": {},
   "outputs": [
    {
     "data": {
      "text/plain": [
       "ColumnTransformer(transformers=[('onehotencoder', OneHotEncoder(),\n",
       "                                 <sklearn.compose._column_transformer.make_column_selector object at 0x7f9f3ca75fa0>),\n",
       "                                ('standardscaler', StandardScaler(),\n",
       "                                 <sklearn.compose._column_transformer.make_column_selector object at 0x7f9f3ca758e0>)])"
      ]
     },
     "execution_count": 9,
     "metadata": {},
     "output_type": "execute_result"
    }
   ],
   "source": [
    "preprocessing = make_column_transformer((OneHotEncoder(), make_column_selector(dtype_include=object)),\n",
    "                                       (StandardScaler(), make_column_selector(dtype_include=np.number)))\n",
    "\n",
    "preprocessing\n",
    "\n",
    "# preprocessing = make_column_transformer((OneHotEncoder(), make_column_selector(dtype_include=object)),\n",
    "#                                        (StandardScaler(), make_column_selector(dtype_include=np.number),\n",
    "#                                         SMOTE()))\n",
    "\n",
    "# preprocessing"
   ]
  },
  {
   "cell_type": "code",
   "execution_count": 104,
   "metadata": {},
   "outputs": [
    {
     "ename": "ValueError",
     "evalue": "too many values to unpack (expected 2)",
     "output_type": "error",
     "traceback": [
      "\u001b[0;31m---------------------------------------------------------------------------\u001b[0m",
      "\u001b[0;31mValueError\u001b[0m                                Traceback (most recent call last)",
      "\u001b[0;32m<ipython-input-104-310bd91c6ccb>\u001b[0m in \u001b[0;36m<module>\u001b[0;34m\u001b[0m\n\u001b[1;32m      1\u001b[0m \u001b[0;31m# fit and transform our preprocessing pipeline to our training data\u001b[0m\u001b[0;34m\u001b[0m\u001b[0;34m\u001b[0m\u001b[0;34m\u001b[0m\u001b[0m\n\u001b[0;32m----> 2\u001b[0;31m \u001b[0mX_pipe\u001b[0m\u001b[0;34m,\u001b[0m \u001b[0my_pipe\u001b[0m \u001b[0;34m=\u001b[0m \u001b[0mpreprocessing\u001b[0m\u001b[0;34m.\u001b[0m\u001b[0mfit_transform\u001b[0m\u001b[0;34m(\u001b[0m\u001b[0mX_train\u001b[0m\u001b[0;34m,\u001b[0m \u001b[0my_train\u001b[0m\u001b[0;34m)\u001b[0m\u001b[0;34m\u001b[0m\u001b[0;34m\u001b[0m\u001b[0m\n\u001b[0m",
      "\u001b[0;31mValueError\u001b[0m: too many values to unpack (expected 2)"
     ]
    }
   ],
   "source": [
    "# fit and transform our preprocessing pipeline to our training data\n",
    "# X_pipe, y_pipe = preprocessing.fit_transform(X_train, y_train)"
   ]
  },
  {
   "cell_type": "code",
   "execution_count": 10,
   "metadata": {},
   "outputs": [],
   "source": [
    "# the next thing we'll do is make separate pipelines for each model we want to test\n",
    "# each of these pipelines will contain our preprocessing pipeline\n",
    "\n",
    "dt_pipeline = Pipeline([(\"pp\", preprocessing), (\"smote\", SMOTE()), (\"dt\", DecisionTreeClassifier(random_state=2020))])\n",
    "rf_pipeline = Pipeline([(\"pp\", preprocessing), (\"smote\", SMOTE()), (\"rf\", RandomForestClassifier(random_state=2020))])\n",
    "lr_pipeline = Pipeline([(\"pp\", preprocessing), (\"smote\", SMOTE()), (\"lr\", LogisticRegression(random_state=2020))])\n",
    "et_pipeline = Pipeline([(\"pp\", preprocessing), (\"smote\", SMOTE()), (\"et\", ExtraTreesClassifier(random_state=2020))])\n",
    "kn_pipeline = Pipeline([(\"pp\", preprocessing), (\"smote\", SMOTE()), (\"kn\", KNeighborsClassifier())])"
   ]
  },
  {
   "cell_type": "markdown",
   "metadata": {},
   "source": [
    "## Create Param_Grids"
   ]
  },
  {
   "cell_type": "code",
   "execution_count": 11,
   "metadata": {},
   "outputs": [],
   "source": [
    "# different param_grids for each pipeline\n",
    "\n",
    "dt_param_grid = {\n",
    "    'dt__criterion': ['entropy', 'gini'],\n",
    "    'dt__splitter': ['best', 'random'],\n",
    "    'dt__max_depth': [2, 5, 10],\n",
    "    'dt__max_features': ['auto', 'sqrt', 'log2'],\n",
    "    'dt__class_weight': ['none', 'balanced']\n",
    "    \n",
    "}\n",
    "\n",
    "rf_param_grid = {\n",
    "    'rf__n_estimators': [10, 100],\n",
    "    'rf__max_depth': [2, 5, 10]\n",
    "    \n",
    "}\n",
    "\n",
    "lr_param_grid = {\n",
    "    'lr__penalty': ['l2'],\n",
    "    'lr__dual': [False],\n",
    "    'lr__solver': ['lbfgs'],\n",
    "    'lr__multi_class': ['multinomial'],\n",
    "    'lr__n_jobs': [10],\n",
    "    'lr__C': [0.1]\n",
    "    \n",
    "}\n",
    "\n",
    "et_param_grid = {\n",
    "    'et__criterion': ['entropy', 'gini'],\n",
    "    'et__max_depth': [2, 5, 10],\n",
    "    'et__n_estimators': [10, 100],\n",
    "    'et__max_features': ['auto', 'sqrt', 'log2'],\n",
    "    'et__class_weight': ['none', 'balanced']\n",
    "    \n",
    "}\n",
    "\n",
    "kn_param_grid = {\n",
    "    'kn__n_neighbors': [2, 3],\n",
    "    'kn__weights': ['uniform', 'distance'],\n",
    "    'kn__p': [1, 2]\n",
    "    \n",
    "}"
   ]
  },
  {
   "cell_type": "markdown",
   "metadata": {},
   "source": [
    "## LogisticRegression"
   ]
  },
  {
   "cell_type": "code",
   "execution_count": 12,
   "metadata": {},
   "outputs": [
    {
     "data": {
      "text/plain": [
       "GridSearchCV(estimator=Pipeline(steps=[('pp',\n",
       "                                        ColumnTransformer(transformers=[('onehotencoder',\n",
       "                                                                         OneHotEncoder(),\n",
       "                                                                         <sklearn.compose._column_transformer.make_column_selector object at 0x7f9f3ca75fa0>),\n",
       "                                                                        ('standardscaler',\n",
       "                                                                         StandardScaler(),\n",
       "                                                                         <sklearn.compose._column_transformer.make_column_selector object at 0x7f9f3ca758e0>)])),\n",
       "                                       ('smote', SMOTE()),\n",
       "                                       ('lr',\n",
       "                                        LogisticRegression(random_state=2020))]),\n",
       "             n_jobs=-1,\n",
       "             param_grid={'lr__C': [0.1], 'lr__dual': [False],\n",
       "                         'lr__multi_class': ['multinomial'], 'lr__n_jobs': [10],\n",
       "                         'lr__penalty': ['l2'], 'lr__solver': ['lbfgs']})"
      ]
     },
     "execution_count": 12,
     "metadata": {},
     "output_type": "execute_result"
    }
   ],
   "source": [
    "search_lr = GridSearchCV(lr_pipeline, lr_param_grid, n_jobs=-1)\n",
    "\n",
    "search_lr.fit(X_train, y_train)"
   ]
  },
  {
   "cell_type": "code",
   "execution_count": 13,
   "metadata": {},
   "outputs": [
    {
     "data": {
      "text/plain": [
       "{'lr__C': 0.1,\n",
       " 'lr__dual': False,\n",
       " 'lr__multi_class': 'multinomial',\n",
       " 'lr__n_jobs': 10,\n",
       " 'lr__penalty': 'l2',\n",
       " 'lr__solver': 'lbfgs'}"
      ]
     },
     "execution_count": 13,
     "metadata": {},
     "output_type": "execute_result"
    }
   ],
   "source": [
    "# we can check its best parameters\n",
    "search_lr.best_params_"
   ]
  },
  {
   "cell_type": "code",
   "execution_count": 14,
   "metadata": {},
   "outputs": [],
   "source": [
    "# assign best model to a variable using best_estimator_\n",
    "best_lr_pipeline = search_lr.best_estimator_"
   ]
  },
  {
   "cell_type": "code",
   "execution_count": 15,
   "metadata": {},
   "outputs": [],
   "source": [
    "# cross validation using the accuracy, precision, recall, and f1 score metric\n",
    "best_lr_cross_val_acc = cross_val_score(best_lr_pipeline, X_train, y_train, scoring='accuracy')\n",
    "best_lr_cross_val_prec = cross_val_score(best_lr_pipeline, X_train, y_train, scoring='precision')\n",
    "best_lr_cross_val_rec = cross_val_score(best_lr_pipeline, X_train, y_train, scoring='recall')\n",
    "best_lr_cross_val_f1 = cross_val_score(best_lr_pipeline, X_train, y_train, scoring='f1')"
   ]
  },
  {
   "cell_type": "markdown",
   "metadata": {},
   "source": [
    "## DecisionTree"
   ]
  },
  {
   "cell_type": "code",
   "execution_count": 16,
   "metadata": {},
   "outputs": [
    {
     "data": {
      "text/plain": [
       "GridSearchCV(estimator=Pipeline(steps=[('pp',\n",
       "                                        ColumnTransformer(transformers=[('onehotencoder',\n",
       "                                                                         OneHotEncoder(),\n",
       "                                                                         <sklearn.compose._column_transformer.make_column_selector object at 0x7f9f3ca75fa0>),\n",
       "                                                                        ('standardscaler',\n",
       "                                                                         StandardScaler(),\n",
       "                                                                         <sklearn.compose._column_transformer.make_column_selector object at 0x7f9f3ca758e0>)])),\n",
       "                                       ('smote', SMOTE()),\n",
       "                                       ('dt',\n",
       "                                        DecisionTreeClassifier(random_state=2020))]),\n",
       "             n_jobs=-1,\n",
       "             param_grid={'dt__class_weight': ['none', 'balanced'],\n",
       "                         'dt__criterion': ['entropy', 'gini'],\n",
       "                         'dt__max_depth': [2, 5, 10],\n",
       "                         'dt__max_features': ['auto', 'sqrt', 'log2'],\n",
       "                         'dt__splitter': ['best', 'random']})"
      ]
     },
     "execution_count": 16,
     "metadata": {},
     "output_type": "execute_result"
    }
   ],
   "source": [
    "search_dt = GridSearchCV(dt_pipeline, dt_param_grid, n_jobs=-1)\n",
    "\n",
    "search_dt.fit(X_train, y_train)"
   ]
  },
  {
   "cell_type": "code",
   "execution_count": 17,
   "metadata": {},
   "outputs": [
    {
     "data": {
      "text/plain": [
       "{'dt__class_weight': 'balanced',\n",
       " 'dt__criterion': 'entropy',\n",
       " 'dt__max_depth': 2,\n",
       " 'dt__max_features': 'auto',\n",
       " 'dt__splitter': 'random'}"
      ]
     },
     "execution_count": 17,
     "metadata": {},
     "output_type": "execute_result"
    }
   ],
   "source": [
    "# we can check its best parameters\n",
    "search_dt.best_params_"
   ]
  },
  {
   "cell_type": "code",
   "execution_count": 18,
   "metadata": {},
   "outputs": [],
   "source": [
    "# assign best model to a variable using best_estimator_\n",
    "best_dt_pipeline = search_dt.best_estimator_"
   ]
  },
  {
   "cell_type": "code",
   "execution_count": 19,
   "metadata": {},
   "outputs": [],
   "source": [
    "# cross validation using the accuracy, precision, recall, and f1 score metric\n",
    "best_dt_cross_val_acc = cross_val_score(best_dt_pipeline, X_train, y_train, scoring='accuracy')\n",
    "best_dt_cross_val_prec = cross_val_score(best_dt_pipeline, X_train, y_train, scoring='precision')\n",
    "best_dt_cross_val_rec = cross_val_score(best_dt_pipeline, X_train, y_train, scoring='recall')\n",
    "best_dt_cross_val_f1 = cross_val_score(best_dt_pipeline, X_train, y_train, scoring='f1')"
   ]
  },
  {
   "cell_type": "markdown",
   "metadata": {},
   "source": [
    "## RandomForest"
   ]
  },
  {
   "cell_type": "code",
   "execution_count": 20,
   "metadata": {},
   "outputs": [
    {
     "data": {
      "text/plain": [
       "GridSearchCV(estimator=Pipeline(steps=[('pp',\n",
       "                                        ColumnTransformer(transformers=[('onehotencoder',\n",
       "                                                                         OneHotEncoder(),\n",
       "                                                                         <sklearn.compose._column_transformer.make_column_selector object at 0x7f9f3ca75fa0>),\n",
       "                                                                        ('standardscaler',\n",
       "                                                                         StandardScaler(),\n",
       "                                                                         <sklearn.compose._column_transformer.make_column_selector object at 0x7f9f3ca758e0>)])),\n",
       "                                       ('smote', SMOTE()),\n",
       "                                       ('rf',\n",
       "                                        RandomForestClassifier(random_state=2020))]),\n",
       "             n_jobs=-1,\n",
       "             param_grid={'rf__max_depth': [2, 5, 10],\n",
       "                         'rf__n_estimators': [10, 100]})"
      ]
     },
     "execution_count": 20,
     "metadata": {},
     "output_type": "execute_result"
    }
   ],
   "source": [
    "search_rf = GridSearchCV(rf_pipeline, rf_param_grid, n_jobs=-1)\n",
    "\n",
    "search_rf.fit(X_train, y_train)"
   ]
  },
  {
   "cell_type": "code",
   "execution_count": 21,
   "metadata": {},
   "outputs": [
    {
     "data": {
      "text/plain": [
       "{'rf__max_depth': 5, 'rf__n_estimators': 100}"
      ]
     },
     "execution_count": 21,
     "metadata": {},
     "output_type": "execute_result"
    }
   ],
   "source": [
    "# we can check its best parameters\n",
    "search_rf.best_params_"
   ]
  },
  {
   "cell_type": "code",
   "execution_count": 22,
   "metadata": {},
   "outputs": [],
   "source": [
    "# assign best model to a variable using best_estimator_\n",
    "best_rf_pipeline = search_rf.best_estimator_"
   ]
  },
  {
   "cell_type": "code",
   "execution_count": 23,
   "metadata": {},
   "outputs": [],
   "source": [
    "# cross validation using the accuracy, precision, recall, and f1 score metric\n",
    "best_rf_cross_val_acc = cross_val_score(best_rf_pipeline, X_train, y_train, scoring='accuracy')\n",
    "best_rf_cross_val_prec = cross_val_score(best_rf_pipeline, X_train, y_train, scoring='precision')\n",
    "best_rf_cross_val_rec = cross_val_score(best_rf_pipeline, X_train, y_train, scoring='recall')\n",
    "best_rf_cross_val_f1 = cross_val_score(best_rf_pipeline, X_train, y_train, scoring='f1')"
   ]
  },
  {
   "cell_type": "markdown",
   "metadata": {},
   "source": [
    "## ExtraTrees"
   ]
  },
  {
   "cell_type": "code",
   "execution_count": 24,
   "metadata": {},
   "outputs": [
    {
     "data": {
      "text/plain": [
       "GridSearchCV(estimator=Pipeline(steps=[('pp',\n",
       "                                        ColumnTransformer(transformers=[('onehotencoder',\n",
       "                                                                         OneHotEncoder(),\n",
       "                                                                         <sklearn.compose._column_transformer.make_column_selector object at 0x7f9f3ca75fa0>),\n",
       "                                                                        ('standardscaler',\n",
       "                                                                         StandardScaler(),\n",
       "                                                                         <sklearn.compose._column_transformer.make_column_selector object at 0x7f9f3ca758e0>)])),\n",
       "                                       ('smote', SMOTE()),\n",
       "                                       ('et',\n",
       "                                        ExtraTreesClassifier(random_state=2020))]),\n",
       "             n_jobs=-1,\n",
       "             param_grid={'et__class_weight': ['none', 'balanced'],\n",
       "                         'et__criterion': ['entropy', 'gini'],\n",
       "                         'et__max_depth': [2, 5, 10],\n",
       "                         'et__max_features': ['auto', 'sqrt', 'log2'],\n",
       "                         'et__n_estimators': [10, 100]})"
      ]
     },
     "execution_count": 24,
     "metadata": {},
     "output_type": "execute_result"
    }
   ],
   "source": [
    "search_et = GridSearchCV(et_pipeline, et_param_grid, n_jobs=-1)\n",
    "\n",
    "search_et.fit(X_train, y_train)"
   ]
  },
  {
   "cell_type": "code",
   "execution_count": 25,
   "metadata": {},
   "outputs": [
    {
     "data": {
      "text/plain": [
       "{'et__class_weight': 'balanced',\n",
       " 'et__criterion': 'gini',\n",
       " 'et__max_depth': 5,\n",
       " 'et__max_features': 'auto',\n",
       " 'et__n_estimators': 100}"
      ]
     },
     "execution_count": 25,
     "metadata": {},
     "output_type": "execute_result"
    }
   ],
   "source": [
    "# we can check its best parameters\n",
    "search_et.best_params_"
   ]
  },
  {
   "cell_type": "code",
   "execution_count": 26,
   "metadata": {},
   "outputs": [],
   "source": [
    "# assign best model to a variable using best_estimator_\n",
    "best_et_pipeline = search_et.best_estimator_"
   ]
  },
  {
   "cell_type": "code",
   "execution_count": 27,
   "metadata": {},
   "outputs": [],
   "source": [
    "# cross validation using the accuracy, precision, recall, and f1 score metric\n",
    "best_et_cross_val_acc = cross_val_score(best_et_pipeline, X_train, y_train, scoring='accuracy')\n",
    "best_et_cross_val_prec = cross_val_score(best_et_pipeline, X_train, y_train, scoring='precision')\n",
    "best_et_cross_val_rec = cross_val_score(best_et_pipeline, X_train, y_train, scoring='recall')\n",
    "best_et_cross_val_f1 = cross_val_score(best_et_pipeline, X_train, y_train, scoring='f1')"
   ]
  },
  {
   "cell_type": "markdown",
   "metadata": {},
   "source": [
    "## KNeighbors"
   ]
  },
  {
   "cell_type": "code",
   "execution_count": 28,
   "metadata": {},
   "outputs": [
    {
     "data": {
      "text/plain": [
       "GridSearchCV(estimator=Pipeline(steps=[('pp',\n",
       "                                        ColumnTransformer(transformers=[('onehotencoder',\n",
       "                                                                         OneHotEncoder(),\n",
       "                                                                         <sklearn.compose._column_transformer.make_column_selector object at 0x7f9f3ca75fa0>),\n",
       "                                                                        ('standardscaler',\n",
       "                                                                         StandardScaler(),\n",
       "                                                                         <sklearn.compose._column_transformer.make_column_selector object at 0x7f9f3ca758e0>)])),\n",
       "                                       ('smote', SMOTE()),\n",
       "                                       ('kn', KNeighborsClassifier())]),\n",
       "             n_jobs=-1,\n",
       "             param_grid={'kn__n_neighbors': [2, 3], 'kn__p': [1, 2],\n",
       "                         'kn__weights': ['uniform', 'distance']})"
      ]
     },
     "execution_count": 28,
     "metadata": {},
     "output_type": "execute_result"
    }
   ],
   "source": [
    "search_kn = GridSearchCV(kn_pipeline, kn_param_grid, n_jobs=-1)\n",
    "\n",
    "search_kn.fit(X_train, y_train)"
   ]
  },
  {
   "cell_type": "code",
   "execution_count": 29,
   "metadata": {},
   "outputs": [
    {
     "data": {
      "text/plain": [
       "{'kn__n_neighbors': 3, 'kn__p': 1, 'kn__weights': 'uniform'}"
      ]
     },
     "execution_count": 29,
     "metadata": {},
     "output_type": "execute_result"
    }
   ],
   "source": [
    "# we can check its best parameters\n",
    "search_kn.best_params_"
   ]
  },
  {
   "cell_type": "code",
   "execution_count": 30,
   "metadata": {},
   "outputs": [],
   "source": [
    "# assign best model to a variable using best_estimator_\n",
    "best_kn_pipeline = search_kn.best_estimator_"
   ]
  },
  {
   "cell_type": "code",
   "execution_count": 31,
   "metadata": {},
   "outputs": [],
   "source": [
    "# cross validation using the accuracy, precision, recall, and f1 score metric\n",
    "best_kn_cross_val_acc = cross_val_score(best_kn_pipeline, X_train, y_train, scoring='accuracy')\n",
    "best_kn_cross_val_prec = cross_val_score(best_kn_pipeline, X_train, y_train, scoring='precision')\n",
    "best_kn_cross_val_rec = cross_val_score(best_kn_pipeline, X_train, y_train, scoring='recall')\n",
    "best_kn_cross_val_f1 = cross_val_score(best_kn_pipeline, X_train, y_train, scoring='f1')"
   ]
  },
  {
   "cell_type": "markdown",
   "metadata": {},
   "source": [
    "## Comparison of Models"
   ]
  },
  {
   "cell_type": "code",
   "execution_count": 32,
   "metadata": {},
   "outputs": [],
   "source": [
    "models = pd.DataFrame({\n",
    "    'Model': ['LogisticRegression', 'DecisionTree', 'RandomForest', \n",
    "              'ExtraTrees', 'KNeighbors'], \n",
    "    'Accuracy': [best_lr_cross_val_acc.mean(), best_dt_cross_val_acc.mean(), best_rf_cross_val_acc.mean(), \n",
    "               best_et_cross_val_acc.mean(), best_kn_cross_val_acc.mean()], \n",
    "    'Precision': [best_lr_cross_val_prec.mean(), best_dt_cross_val_prec.mean(), best_rf_cross_val_prec.mean(), \n",
    "               best_et_cross_val_prec.mean(), best_kn_cross_val_prec.mean()], \n",
    "    'Recall': [best_lr_cross_val_rec.mean(), best_dt_cross_val_rec.mean(), best_rf_cross_val_rec.mean(), \n",
    "               best_et_cross_val_rec.mean(), best_kn_cross_val_rec.mean()],\n",
    "    'F1 Score': [best_lr_cross_val_f1.mean(), best_dt_cross_val_f1.mean(), best_rf_cross_val_f1.mean(), \n",
    "               best_et_cross_val_f1.mean(), best_kn_cross_val_f1.mean()]}) "
   ]
  },
  {
   "cell_type": "code",
   "execution_count": 33,
   "metadata": {},
   "outputs": [
    {
     "data": {
      "text/html": [
       "<div>\n",
       "<style scoped>\n",
       "    .dataframe tbody tr th:only-of-type {\n",
       "        vertical-align: middle;\n",
       "    }\n",
       "\n",
       "    .dataframe tbody tr th {\n",
       "        vertical-align: top;\n",
       "    }\n",
       "\n",
       "    .dataframe thead th {\n",
       "        text-align: right;\n",
       "    }\n",
       "</style>\n",
       "<table border=\"1\" class=\"dataframe\">\n",
       "  <thead>\n",
       "    <tr style=\"text-align: right;\">\n",
       "      <th></th>\n",
       "      <th>Model</th>\n",
       "      <th>Accuracy</th>\n",
       "      <th>Precision</th>\n",
       "      <th>Recall</th>\n",
       "      <th>F1 Score</th>\n",
       "    </tr>\n",
       "  </thead>\n",
       "  <tbody>\n",
       "    <tr>\n",
       "      <th>3</th>\n",
       "      <td>ExtraTrees</td>\n",
       "      <td>0.734846</td>\n",
       "      <td>0.782816</td>\n",
       "      <td>0.796422</td>\n",
       "      <td>0.789457</td>\n",
       "    </tr>\n",
       "    <tr>\n",
       "      <th>2</th>\n",
       "      <td>RandomForest</td>\n",
       "      <td>0.731724</td>\n",
       "      <td>0.800608</td>\n",
       "      <td>0.750737</td>\n",
       "      <td>0.779516</td>\n",
       "    </tr>\n",
       "    <tr>\n",
       "      <th>1</th>\n",
       "      <td>DecisionTree</td>\n",
       "      <td>0.731483</td>\n",
       "      <td>0.774844</td>\n",
       "      <td>0.803937</td>\n",
       "      <td>0.789119</td>\n",
       "    </tr>\n",
       "    <tr>\n",
       "      <th>0</th>\n",
       "      <td>LogisticRegression</td>\n",
       "      <td>0.730007</td>\n",
       "      <td>0.805486</td>\n",
       "      <td>0.748263</td>\n",
       "      <td>0.776108</td>\n",
       "    </tr>\n",
       "    <tr>\n",
       "      <th>4</th>\n",
       "      <td>KNeighbors</td>\n",
       "      <td>0.676344</td>\n",
       "      <td>0.762889</td>\n",
       "      <td>0.699151</td>\n",
       "      <td>0.731165</td>\n",
       "    </tr>\n",
       "  </tbody>\n",
       "</table>\n",
       "</div>"
      ],
      "text/plain": [
       "                Model  Accuracy  Precision    Recall  F1 Score\n",
       "3          ExtraTrees  0.734846   0.782816  0.796422  0.789457\n",
       "2        RandomForest  0.731724   0.800608  0.750737  0.779516\n",
       "1        DecisionTree  0.731483   0.774844  0.803937  0.789119\n",
       "0  LogisticRegression  0.730007   0.805486  0.748263  0.776108\n",
       "4          KNeighbors  0.676344   0.762889  0.699151  0.731165"
      ]
     },
     "execution_count": 33,
     "metadata": {},
     "output_type": "execute_result"
    }
   ],
   "source": [
    "models.sort_values('Accuracy', ascending=False)"
   ]
  },
  {
   "cell_type": "code",
   "execution_count": 34,
   "metadata": {},
   "outputs": [
    {
     "data": {
      "text/html": [
       "<div>\n",
       "<style scoped>\n",
       "    .dataframe tbody tr th:only-of-type {\n",
       "        vertical-align: middle;\n",
       "    }\n",
       "\n",
       "    .dataframe tbody tr th {\n",
       "        vertical-align: top;\n",
       "    }\n",
       "\n",
       "    .dataframe thead th {\n",
       "        text-align: right;\n",
       "    }\n",
       "</style>\n",
       "<table border=\"1\" class=\"dataframe\">\n",
       "  <thead>\n",
       "    <tr style=\"text-align: right;\">\n",
       "      <th></th>\n",
       "      <th>Model</th>\n",
       "      <th>Accuracy</th>\n",
       "      <th>Precision</th>\n",
       "      <th>Recall</th>\n",
       "      <th>F1 Score</th>\n",
       "    </tr>\n",
       "  </thead>\n",
       "  <tbody>\n",
       "    <tr>\n",
       "      <th>0</th>\n",
       "      <td>LogisticRegression</td>\n",
       "      <td>0.730007</td>\n",
       "      <td>0.805486</td>\n",
       "      <td>0.748263</td>\n",
       "      <td>0.776108</td>\n",
       "    </tr>\n",
       "    <tr>\n",
       "      <th>2</th>\n",
       "      <td>RandomForest</td>\n",
       "      <td>0.731724</td>\n",
       "      <td>0.800608</td>\n",
       "      <td>0.750737</td>\n",
       "      <td>0.779516</td>\n",
       "    </tr>\n",
       "    <tr>\n",
       "      <th>3</th>\n",
       "      <td>ExtraTrees</td>\n",
       "      <td>0.734846</td>\n",
       "      <td>0.782816</td>\n",
       "      <td>0.796422</td>\n",
       "      <td>0.789457</td>\n",
       "    </tr>\n",
       "    <tr>\n",
       "      <th>1</th>\n",
       "      <td>DecisionTree</td>\n",
       "      <td>0.731483</td>\n",
       "      <td>0.774844</td>\n",
       "      <td>0.803937</td>\n",
       "      <td>0.789119</td>\n",
       "    </tr>\n",
       "    <tr>\n",
       "      <th>4</th>\n",
       "      <td>KNeighbors</td>\n",
       "      <td>0.676344</td>\n",
       "      <td>0.762889</td>\n",
       "      <td>0.699151</td>\n",
       "      <td>0.731165</td>\n",
       "    </tr>\n",
       "  </tbody>\n",
       "</table>\n",
       "</div>"
      ],
      "text/plain": [
       "                Model  Accuracy  Precision    Recall  F1 Score\n",
       "0  LogisticRegression  0.730007   0.805486  0.748263  0.776108\n",
       "2        RandomForest  0.731724   0.800608  0.750737  0.779516\n",
       "3          ExtraTrees  0.734846   0.782816  0.796422  0.789457\n",
       "1        DecisionTree  0.731483   0.774844  0.803937  0.789119\n",
       "4          KNeighbors  0.676344   0.762889  0.699151  0.731165"
      ]
     },
     "execution_count": 34,
     "metadata": {},
     "output_type": "execute_result"
    }
   ],
   "source": [
    "models.sort_values('Precision', ascending=False)"
   ]
  },
  {
   "cell_type": "code",
   "execution_count": 35,
   "metadata": {},
   "outputs": [
    {
     "data": {
      "text/html": [
       "<div>\n",
       "<style scoped>\n",
       "    .dataframe tbody tr th:only-of-type {\n",
       "        vertical-align: middle;\n",
       "    }\n",
       "\n",
       "    .dataframe tbody tr th {\n",
       "        vertical-align: top;\n",
       "    }\n",
       "\n",
       "    .dataframe thead th {\n",
       "        text-align: right;\n",
       "    }\n",
       "</style>\n",
       "<table border=\"1\" class=\"dataframe\">\n",
       "  <thead>\n",
       "    <tr style=\"text-align: right;\">\n",
       "      <th></th>\n",
       "      <th>Model</th>\n",
       "      <th>Accuracy</th>\n",
       "      <th>Precision</th>\n",
       "      <th>Recall</th>\n",
       "      <th>F1 Score</th>\n",
       "    </tr>\n",
       "  </thead>\n",
       "  <tbody>\n",
       "    <tr>\n",
       "      <th>3</th>\n",
       "      <td>ExtraTrees</td>\n",
       "      <td>0.734846</td>\n",
       "      <td>0.782816</td>\n",
       "      <td>0.796422</td>\n",
       "      <td>0.789457</td>\n",
       "    </tr>\n",
       "    <tr>\n",
       "      <th>1</th>\n",
       "      <td>DecisionTree</td>\n",
       "      <td>0.731483</td>\n",
       "      <td>0.774844</td>\n",
       "      <td>0.803937</td>\n",
       "      <td>0.789119</td>\n",
       "    </tr>\n",
       "    <tr>\n",
       "      <th>2</th>\n",
       "      <td>RandomForest</td>\n",
       "      <td>0.731724</td>\n",
       "      <td>0.800608</td>\n",
       "      <td>0.750737</td>\n",
       "      <td>0.779516</td>\n",
       "    </tr>\n",
       "    <tr>\n",
       "      <th>0</th>\n",
       "      <td>LogisticRegression</td>\n",
       "      <td>0.730007</td>\n",
       "      <td>0.805486</td>\n",
       "      <td>0.748263</td>\n",
       "      <td>0.776108</td>\n",
       "    </tr>\n",
       "    <tr>\n",
       "      <th>4</th>\n",
       "      <td>KNeighbors</td>\n",
       "      <td>0.676344</td>\n",
       "      <td>0.762889</td>\n",
       "      <td>0.699151</td>\n",
       "      <td>0.731165</td>\n",
       "    </tr>\n",
       "  </tbody>\n",
       "</table>\n",
       "</div>"
      ],
      "text/plain": [
       "                Model  Accuracy  Precision    Recall  F1 Score\n",
       "3          ExtraTrees  0.734846   0.782816  0.796422  0.789457\n",
       "1        DecisionTree  0.731483   0.774844  0.803937  0.789119\n",
       "2        RandomForest  0.731724   0.800608  0.750737  0.779516\n",
       "0  LogisticRegression  0.730007   0.805486  0.748263  0.776108\n",
       "4          KNeighbors  0.676344   0.762889  0.699151  0.731165"
      ]
     },
     "execution_count": 35,
     "metadata": {},
     "output_type": "execute_result"
    }
   ],
   "source": [
    "models.sort_values('F1 Score', ascending=False)"
   ]
  },
  {
   "cell_type": "code",
   "execution_count": 36,
   "metadata": {},
   "outputs": [
    {
     "data": {
      "text/html": [
       "<div>\n",
       "<style scoped>\n",
       "    .dataframe tbody tr th:only-of-type {\n",
       "        vertical-align: middle;\n",
       "    }\n",
       "\n",
       "    .dataframe tbody tr th {\n",
       "        vertical-align: top;\n",
       "    }\n",
       "\n",
       "    .dataframe thead th {\n",
       "        text-align: right;\n",
       "    }\n",
       "</style>\n",
       "<table border=\"1\" class=\"dataframe\">\n",
       "  <thead>\n",
       "    <tr style=\"text-align: right;\">\n",
       "      <th></th>\n",
       "      <th>Model</th>\n",
       "      <th>Accuracy</th>\n",
       "      <th>Precision</th>\n",
       "      <th>Recall</th>\n",
       "      <th>F1 Score</th>\n",
       "    </tr>\n",
       "  </thead>\n",
       "  <tbody>\n",
       "    <tr>\n",
       "      <th>1</th>\n",
       "      <td>DecisionTree</td>\n",
       "      <td>0.731483</td>\n",
       "      <td>0.774844</td>\n",
       "      <td>0.803937</td>\n",
       "      <td>0.789119</td>\n",
       "    </tr>\n",
       "    <tr>\n",
       "      <th>3</th>\n",
       "      <td>ExtraTrees</td>\n",
       "      <td>0.734846</td>\n",
       "      <td>0.782816</td>\n",
       "      <td>0.796422</td>\n",
       "      <td>0.789457</td>\n",
       "    </tr>\n",
       "    <tr>\n",
       "      <th>2</th>\n",
       "      <td>RandomForest</td>\n",
       "      <td>0.731724</td>\n",
       "      <td>0.800608</td>\n",
       "      <td>0.750737</td>\n",
       "      <td>0.779516</td>\n",
       "    </tr>\n",
       "    <tr>\n",
       "      <th>0</th>\n",
       "      <td>LogisticRegression</td>\n",
       "      <td>0.730007</td>\n",
       "      <td>0.805486</td>\n",
       "      <td>0.748263</td>\n",
       "      <td>0.776108</td>\n",
       "    </tr>\n",
       "    <tr>\n",
       "      <th>4</th>\n",
       "      <td>KNeighbors</td>\n",
       "      <td>0.676344</td>\n",
       "      <td>0.762889</td>\n",
       "      <td>0.699151</td>\n",
       "      <td>0.731165</td>\n",
       "    </tr>\n",
       "  </tbody>\n",
       "</table>\n",
       "</div>"
      ],
      "text/plain": [
       "                Model  Accuracy  Precision    Recall  F1 Score\n",
       "1        DecisionTree  0.731483   0.774844  0.803937  0.789119\n",
       "3          ExtraTrees  0.734846   0.782816  0.796422  0.789457\n",
       "2        RandomForest  0.731724   0.800608  0.750737  0.779516\n",
       "0  LogisticRegression  0.730007   0.805486  0.748263  0.776108\n",
       "4          KNeighbors  0.676344   0.762889  0.699151  0.731165"
      ]
     },
     "execution_count": 36,
     "metadata": {},
     "output_type": "execute_result"
    }
   ],
   "source": [
    "models.sort_values('Recall', ascending=False)"
   ]
  },
  {
   "cell_type": "markdown",
   "metadata": {},
   "source": [
    "## Final Model"
   ]
  },
  {
   "cell_type": "code",
   "execution_count": 37,
   "metadata": {},
   "outputs": [
    {
     "data": {
      "text/plain": [
       "Pipeline(steps=[('pp',\n",
       "                 ColumnTransformer(transformers=[('onehotencoder',\n",
       "                                                  OneHotEncoder(),\n",
       "                                                  <sklearn.compose._column_transformer.make_column_selector object at 0x7f9f44e25e20>),\n",
       "                                                 ('standardscaler',\n",
       "                                                  StandardScaler(),\n",
       "                                                  <sklearn.compose._column_transformer.make_column_selector object at 0x7f9f44e25760>)])),\n",
       "                ('smote', SMOTE()),\n",
       "                ('et',\n",
       "                 ExtraTreesClassifier(class_weight='balanced', max_depth=5,\n",
       "                                      random_state=2020))])"
      ]
     },
     "execution_count": 37,
     "metadata": {},
     "output_type": "execute_result"
    }
   ],
   "source": [
    "# refit training data onto best model\n",
    "best_et_pipeline.fit(X_train, y_train)"
   ]
  },
  {
   "cell_type": "code",
   "execution_count": 38,
   "metadata": {},
   "outputs": [],
   "source": [
    "et_cross_val_acc_test = cross_val_score(best_et_pipeline, X_test, y_test, scoring='accuracy').mean()\n",
    "et_cross_val_prec_test = cross_val_score(best_et_pipeline, X_test, y_test, scoring='precision').mean()\n",
    "et_cross_val_rec_test = cross_val_score(best_et_pipeline, X_test, y_test, scoring='recall').mean()\n",
    "et_cross_val_f1_test = cross_val_score(best_et_pipeline, X_test, y_test, scoring='f1').mean()"
   ]
  },
  {
   "cell_type": "code",
   "execution_count": 39,
   "metadata": {},
   "outputs": [],
   "source": [
    "final_model_comp = pd.DataFrame({\n",
    "    'Model': ['ExtraTrees Train', 'ExtraTrees Test'], \n",
    "    'Accuracy': [best_et_cross_val_acc.mean(), et_cross_val_acc_test], \n",
    "    'Precision': [best_et_cross_val_prec.mean(), et_cross_val_prec_test], \n",
    "    'Recall': [best_et_cross_val_rec.mean(), et_cross_val_rec_test],\n",
    "    'F1 Score': [best_et_cross_val_f1.mean(), et_cross_val_f1_test]}) "
   ]
  },
  {
   "cell_type": "code",
   "execution_count": 40,
   "metadata": {},
   "outputs": [
    {
     "data": {
      "text/html": [
       "<div>\n",
       "<style scoped>\n",
       "    .dataframe tbody tr th:only-of-type {\n",
       "        vertical-align: middle;\n",
       "    }\n",
       "\n",
       "    .dataframe tbody tr th {\n",
       "        vertical-align: top;\n",
       "    }\n",
       "\n",
       "    .dataframe thead th {\n",
       "        text-align: right;\n",
       "    }\n",
       "</style>\n",
       "<table border=\"1\" class=\"dataframe\">\n",
       "  <thead>\n",
       "    <tr style=\"text-align: right;\">\n",
       "      <th></th>\n",
       "      <th>Model</th>\n",
       "      <th>Accuracy</th>\n",
       "      <th>Precision</th>\n",
       "      <th>Recall</th>\n",
       "      <th>F1 Score</th>\n",
       "    </tr>\n",
       "  </thead>\n",
       "  <tbody>\n",
       "    <tr>\n",
       "      <th>0</th>\n",
       "      <td>ExtraTrees Train</td>\n",
       "      <td>0.734846</td>\n",
       "      <td>0.782816</td>\n",
       "      <td>0.796422</td>\n",
       "      <td>0.789457</td>\n",
       "    </tr>\n",
       "    <tr>\n",
       "      <th>1</th>\n",
       "      <td>ExtraTrees Test</td>\n",
       "      <td>0.739501</td>\n",
       "      <td>0.784835</td>\n",
       "      <td>0.801237</td>\n",
       "      <td>0.792859</td>\n",
       "    </tr>\n",
       "  </tbody>\n",
       "</table>\n",
       "</div>"
      ],
      "text/plain": [
       "              Model  Accuracy  Precision    Recall  F1 Score\n",
       "0  ExtraTrees Train  0.734846   0.782816  0.796422  0.789457\n",
       "1   ExtraTrees Test  0.739501   0.784835  0.801237  0.792859"
      ]
     },
     "execution_count": 40,
     "metadata": {},
     "output_type": "execute_result"
    }
   ],
   "source": [
    "final_model_comp"
   ]
  },
  {
   "cell_type": "markdown",
   "metadata": {},
   "source": [
    "## ExtraTrees Feature Importance"
   ]
  },
  {
   "cell_type": "code",
   "execution_count": 41,
   "metadata": {},
   "outputs": [
    {
     "data": {
      "text/plain": [
       "array([0.00176623, 0.01557135, 0.02104798, 0.01387663, 0.00422264,\n",
       "       0.0086582 , 0.13595939, 0.0019966 , 0.02193684, 0.61806308,\n",
       "       0.01154374, 0.02815481, 0.00314515, 0.00814761, 0.00905877,\n",
       "       0.01393049, 0.08292049])"
      ]
     },
     "execution_count": 41,
     "metadata": {},
     "output_type": "execute_result"
    }
   ],
   "source": [
    "best_et_pipeline.steps[2][1].feature_importances_"
   ]
  },
  {
   "cell_type": "code",
   "execution_count": 42,
   "metadata": {},
   "outputs": [],
   "source": [
    "feat_imp_df = pd.DataFrame(best_et_pipeline.steps[2][1].feature_importances_.round(decimals=3), index=X_train.columns)"
   ]
  },
  {
   "cell_type": "code",
   "execution_count": 43,
   "metadata": {},
   "outputs": [],
   "source": [
    "feat_imp_df.rename({0: 'Importance'}, axis=1, inplace=True)"
   ]
  },
  {
   "cell_type": "code",
   "execution_count": 44,
   "metadata": {},
   "outputs": [],
   "source": [
    "feat_imp_df = feat_imp_df.sort_values(by='Importance', ascending=True)"
   ]
  },
  {
   "cell_type": "code",
   "execution_count": 45,
   "metadata": {},
   "outputs": [
    {
     "data": {
      "text/html": [
       "<div>\n",
       "<style scoped>\n",
       "    .dataframe tbody tr th:only-of-type {\n",
       "        vertical-align: middle;\n",
       "    }\n",
       "\n",
       "    .dataframe tbody tr th {\n",
       "        vertical-align: top;\n",
       "    }\n",
       "\n",
       "    .dataframe thead th {\n",
       "        text-align: right;\n",
       "    }\n",
       "</style>\n",
       "<table border=\"1\" class=\"dataframe\">\n",
       "  <thead>\n",
       "    <tr style=\"text-align: right;\">\n",
       "      <th></th>\n",
       "      <th>Importance</th>\n",
       "    </tr>\n",
       "  </thead>\n",
       "  <tbody>\n",
       "    <tr>\n",
       "      <th>yardline_100</th>\n",
       "      <td>0.002</td>\n",
       "    </tr>\n",
       "    <tr>\n",
       "      <th>goal_to_go</th>\n",
       "      <td>0.002</td>\n",
       "    </tr>\n",
       "    <tr>\n",
       "      <th>defteam_timeouts_remaining</th>\n",
       "      <td>0.003</td>\n",
       "    </tr>\n",
       "    <tr>\n",
       "      <th>drive</th>\n",
       "      <td>0.004</td>\n",
       "    </tr>\n",
       "    <tr>\n",
       "      <th>posteam_score</th>\n",
       "      <td>0.008</td>\n",
       "    </tr>\n",
       "    <tr>\n",
       "      <th>qtr</th>\n",
       "      <td>0.009</td>\n",
       "    </tr>\n",
       "    <tr>\n",
       "      <th>defteam_score</th>\n",
       "      <td>0.009</td>\n",
       "    </tr>\n",
       "    <tr>\n",
       "      <th>no_huddle</th>\n",
       "      <td>0.012</td>\n",
       "    </tr>\n",
       "    <tr>\n",
       "      <th>game_seconds_remaining</th>\n",
       "      <td>0.014</td>\n",
       "    </tr>\n",
       "    <tr>\n",
       "      <th>score_differential</th>\n",
       "      <td>0.014</td>\n",
       "    </tr>\n",
       "    <tr>\n",
       "      <th>quarter_seconds_remaining</th>\n",
       "      <td>0.016</td>\n",
       "    </tr>\n",
       "    <tr>\n",
       "      <th>half_seconds_remaining</th>\n",
       "      <td>0.021</td>\n",
       "    </tr>\n",
       "    <tr>\n",
       "      <th>ydstogo</th>\n",
       "      <td>0.022</td>\n",
       "    </tr>\n",
       "    <tr>\n",
       "      <th>posteam_timeouts_remaining</th>\n",
       "      <td>0.028</td>\n",
       "    </tr>\n",
       "    <tr>\n",
       "      <th>wp</th>\n",
       "      <td>0.083</td>\n",
       "    </tr>\n",
       "    <tr>\n",
       "      <th>down</th>\n",
       "      <td>0.136</td>\n",
       "    </tr>\n",
       "    <tr>\n",
       "      <th>shotgun</th>\n",
       "      <td>0.618</td>\n",
       "    </tr>\n",
       "  </tbody>\n",
       "</table>\n",
       "</div>"
      ],
      "text/plain": [
       "                            Importance\n",
       "yardline_100                     0.002\n",
       "goal_to_go                       0.002\n",
       "defteam_timeouts_remaining       0.003\n",
       "drive                            0.004\n",
       "posteam_score                    0.008\n",
       "qtr                              0.009\n",
       "defteam_score                    0.009\n",
       "no_huddle                        0.012\n",
       "game_seconds_remaining           0.014\n",
       "score_differential               0.014\n",
       "quarter_seconds_remaining        0.016\n",
       "half_seconds_remaining           0.021\n",
       "ydstogo                          0.022\n",
       "posteam_timeouts_remaining       0.028\n",
       "wp                               0.083\n",
       "down                             0.136\n",
       "shotgun                          0.618"
      ]
     },
     "execution_count": 45,
     "metadata": {},
     "output_type": "execute_result"
    }
   ],
   "source": [
    "feat_imp_df"
   ]
  },
  {
   "cell_type": "code",
   "execution_count": 142,
   "metadata": {},
   "outputs": [
    {
     "name": "stderr",
     "output_type": "stream",
     "text": [
      "<ipython-input-142-70c4b3a0922c>:5: UserWarning: FixedFormatter should only be used together with FixedLocator\n",
      "  ax.set_yticklabels(feat_imp_df.index, fontsize=22)\n",
      "<ipython-input-142-70c4b3a0922c>:6: UserWarning: FixedFormatter should only be used together with FixedLocator\n",
      "  ax.set_xticklabels(feat_imp_df.Importance, fontsize=22)\n"
     ]
    },
    {
     "data": {
      "image/png": "[encoded data removed]",
      "text/plain": [
       "<Figure size 1440x720 with 1 Axes>"
      ]
     },
     "metadata": {
      "needs_background": "light"
     },
     "output_type": "display_data"
    }
   ],
   "source": [
    "fig,ax = plt.subplots(figsize=(20,10))\n",
    "plt.barh(feat_imp_df.index, feat_imp_df.Importance, color='g')\n",
    "# plt.title('Run/Pass Feature Importance', fontsize=25)\n",
    "plt.xlabel('Importance', fontsize=22)\n",
    "ax.set_yticklabels(feat_imp_df.index, fontsize=22)\n",
    "ax.set_xticklabels(feat_imp_df.Importance, fontsize=22)\n",
    "plt.tight_layout()\n",
    "\n",
    "plt.savefig('run_pass_features.png')\n",
    "plt.show()\n",
    "plt.close()"
   ]
  },
  {
   "cell_type": "markdown",
   "metadata": {},
   "source": [
    "## Confusion Matrix"
   ]
  },
  {
   "cell_type": "code",
   "execution_count": 135,
   "metadata": {},
   "outputs": [],
   "source": [
    "from sklearn.metrics import plot_confusion_matrix\n",
    "\n",
    "def confusion_matrix_info(model, X_test, y_test, save_path=None):\n",
    "    '''\n",
    "    Creates a confusion matrix for a given model\n",
    "\n",
    "    Parameters\n",
    "    ----------\n",
    "    model: an estimator\n",
    "\n",
    "    X_test: testing dataset\n",
    "\n",
    "    y_test: training dataset\n",
    "\n",
    "    Returns\n",
    "    -------\n",
    "    A confusion matrix of given model\n",
    "    '''\n",
    "    fig, axes = plt.subplots(figsize=(13,8))\n",
    "\n",
    "    #axes.set_title(\"Model Validation\", fontsize=20)\n",
    "    x_tick_marks = ['Predicted Run', 'Predicted Pass']\n",
    "    y_tick_marks = ['Actual Run', 'Actual Pass']\n",
    "    \n",
    "    plot_confusion_matrix(model, X_test, y_test, ax=axes, cmap='Greens', display_labels=y_tick_marks)\n",
    "\n",
    "    plt.xticks([0,1], x_tick_marks)\n",
    "    label_font = {'size':'5'}\n",
    "    axes.set_xlabel('', fontdict=label_font)\n",
    "    axes.set_ylabel('', fontdict=label_font)\n",
    "\n",
    "#     SMALL_SIZE = 25\n",
    "#     MEDIUM_SIZE = 14\n",
    "#     BIGGER_SIZE = 16\n",
    "#     plt.axes('font', size=SMALL_SIZE)          \n",
    "#     plt.rc('axes', titlesize=SMALL_SIZE)     \n",
    "#     plt.rc('axes', labelsize=MEDIUM_SIZE)    \n",
    "#     plt.rc('xtick', labelsize=SMALL_SIZE)   \n",
    "#     plt.rc('ytick', labelsize=SMALL_SIZE)   \n",
    "#     plt.rc('legend', fontsize=SMALL_SIZE)   \n",
    "#     plt.rc('figure', titlesize=BIGGER_SIZE)\n",
    "    \n",
    "    plt.tight_layout()\n",
    "    confusion_matrix = plt.show()\n",
    "\n",
    "    if save_path:\n",
    "        plt.savefig(save_path, transparent=True)\n",
    "\n",
    "    return confusion_matrix, fig\n",
    "\n"
   ]
  },
  {
   "cell_type": "code",
   "execution_count": 136,
   "metadata": {},
   "outputs": [
    {
     "data": {
      "image/png": "[encoded data removed]",
      "text/plain": [
       "<Figure size 936x576 with 2 Axes>"
      ]
     },
     "metadata": {
      "needs_background": "light"
     },
     "output_type": "display_data"
    },
    {
     "data": {
      "text/plain": [
       "(None, <Figure size 936x576 with 2 Axes>)"
      ]
     },
     "execution_count": 136,
     "metadata": {},
     "output_type": "execute_result"
    },
    {
     "data": {
      "text/plain": [
       "<Figure size 432x288 with 0 Axes>"
      ]
     },
     "metadata": {},
     "output_type": "display_data"
    }
   ],
   "source": [
    "confusion_matrix_info(best_et_pipeline, X_test, y_test, save_path='confusion_matrix.png')"
   ]
  },
  {
   "cell_type": "code",
   "execution_count": 123,
   "metadata": {},
   "outputs": [],
   "source": [
    "#Generate predictions with the model using our X values\n",
    "y_pred = best_et_pipeline.predict(X_test)"
   ]
  },
  {
   "cell_type": "code",
   "execution_count": 84,
   "metadata": {},
   "outputs": [
    {
     "data": {
      "text/plain": [
       "((70476, 17), (17620, 17), (70476,), (17620,))"
      ]
     },
     "execution_count": 84,
     "metadata": {},
     "output_type": "execute_result"
    }
   ],
   "source": [
    "X_train.shape, X_test.shape, y_train.shape, y_test.shape"
   ]
  },
  {
   "cell_type": "code",
   "execution_count": 124,
   "metadata": {},
   "outputs": [
    {
     "data": {
      "text/plain": [
       "(17620,)"
      ]
     },
     "execution_count": 124,
     "metadata": {},
     "output_type": "execute_result"
    }
   ],
   "source": [
    "y_pred.shape"
   ]
  },
  {
   "cell_type": "code",
   "execution_count": 99,
   "metadata": {},
   "outputs": [
    {
     "name": "stdout",
     "output_type": "stream",
     "text": [
      "[[4260 2220]\n",
      " [2377 8763]]\n"
     ]
    }
   ],
   "source": [
    "from sklearn.metrics import confusion_matrix\n",
    "\n",
    "#Get the confusion matrix\n",
    "cf_matrix = confusion_matrix(y_pred, y_test)\n",
    "print(cf_matrix)"
   ]
  },
  {
   "cell_type": "code",
   "execution_count": 134,
   "metadata": {},
   "outputs": [
    {
     "data": {
      "image/png": "[encoded data removed]",
      "text/plain": [
       "<Figure size 720x720 with 2 Axes>"
      ]
     },
     "metadata": {
      "needs_background": "light"
     },
     "output_type": "display_data"
    }
   ],
   "source": [
    "fig, axes = plt.subplots(figsize=(10,10))\n",
    "\n",
    "x_labels = ['Predicted Run Play', 'Predicted Pass Play']\n",
    "y_labels = ['Actual Run Play', 'Predicted Run Play']\n",
    "\n",
    "plot_confusion_matrix(best_et_pipeline, X_test, y_test,cmap='Greens', ax=axes, display_labels=y_labels)\n",
    "\n",
    "# plt.title('Confusion Matrix')\n",
    "plt.xticks([0,1], x_labels)\n",
    "plt.tight_layout()\n",
    "plt.show()"
   ]
  },
  {
   "cell_type": "code",
   "execution_count": 120,
   "metadata": {},
   "outputs": [
    {
     "ename": "NameError",
     "evalue": "name 'make_confusion_matrix' is not defined",
     "output_type": "error",
     "traceback": [
      "\u001b[0;31m---------------------------------------------------------------------------\u001b[0m",
      "\u001b[0;31mNameError\u001b[0m                                 Traceback (most recent call last)",
      "\u001b[0;32m<ipython-input-120-847e5522947f>\u001b[0m in \u001b[0;36m<module>\u001b[0;34m\u001b[0m\n\u001b[1;32m      3\u001b[0m \u001b[0mlabels\u001b[0m \u001b[0;34m=\u001b[0m \u001b[0;34m[\u001b[0m\u001b[0;34m'True Neg'\u001b[0m\u001b[0;34m,\u001b[0m\u001b[0;34m'False Pos'\u001b[0m\u001b[0;34m,\u001b[0m\u001b[0;34m'False Neg'\u001b[0m\u001b[0;34m,\u001b[0m\u001b[0;34m'True Pos'\u001b[0m\u001b[0;34m]\u001b[0m\u001b[0;34m\u001b[0m\u001b[0;34m\u001b[0m\u001b[0m\n\u001b[1;32m      4\u001b[0m \u001b[0mcategories\u001b[0m \u001b[0;34m=\u001b[0m \u001b[0;34m[\u001b[0m\u001b[0;34m'Run'\u001b[0m\u001b[0;34m,\u001b[0m \u001b[0;34m'Pass'\u001b[0m\u001b[0;34m]\u001b[0m\u001b[0;34m\u001b[0m\u001b[0;34m\u001b[0m\u001b[0m\n\u001b[0;32m----> 5\u001b[0;31m make_confusion_matrix(cf_matrix, \n\u001b[0m\u001b[1;32m      6\u001b[0m                       \u001b[0mgroup_names\u001b[0m\u001b[0;34m=\u001b[0m\u001b[0mlabels\u001b[0m\u001b[0;34m,\u001b[0m\u001b[0;34m\u001b[0m\u001b[0;34m\u001b[0m\u001b[0m\n\u001b[1;32m      7\u001b[0m                       \u001b[0mcategories\u001b[0m\u001b[0;34m=\u001b[0m\u001b[0mcategories\u001b[0m\u001b[0;34m,\u001b[0m\u001b[0;34m\u001b[0m\u001b[0;34m\u001b[0m\u001b[0m\n",
      "\u001b[0;31mNameError\u001b[0m: name 'make_confusion_matrix' is not defined"
     ]
    }
   ],
   "source": [
    "import seaborn as sns\n",
    "\n",
    "labels = ['True Neg','False Pos','False Neg','True Pos']\n",
    "categories = ['Run', 'Pass']\n",
    "make_confusion_matrix(cf_matrix, \n",
    "                      group_names=labels,\n",
    "                      categories=categories, \n",
    "                      cmap='Greens')"
   ]
  },
  {
   "cell_type": "markdown",
   "metadata": {},
   "source": [
    "## Save Final Machine Learning Model With Pickle\n"
   ]
  },
  {
   "cell_type": "code",
   "execution_count": 50,
   "metadata": {},
   "outputs": [],
   "source": [
    "import pickle as pkl\n",
    "\n",
    "file = open('final_pipeline.pkl', 'wb')\n",
    "pkl.dump(best_et_pipeline, file)\n",
    "file.close()"
   ]
  },
  {
   "cell_type": "code",
   "execution_count": 143,
   "metadata": {},
   "outputs": [],
   "source": [
    "df2 = pd.read_pickle('run_pass_df.pkl')"
   ]
  },
  {
   "cell_type": "code",
   "execution_count": 144,
   "metadata": {},
   "outputs": [
    {
     "data": {
      "text/html": [
       "<div>\n",
       "<style scoped>\n",
       "    .dataframe tbody tr th:only-of-type {\n",
       "        vertical-align: middle;\n",
       "    }\n",
       "\n",
       "    .dataframe tbody tr th {\n",
       "        vertical-align: top;\n",
       "    }\n",
       "\n",
       "    .dataframe thead th {\n",
       "        text-align: right;\n",
       "    }\n",
       "</style>\n",
       "<table border=\"1\" class=\"dataframe\">\n",
       "  <thead>\n",
       "    <tr style=\"text-align: right;\">\n",
       "      <th></th>\n",
       "      <th>yardline_100</th>\n",
       "      <th>quarter_seconds_remaining</th>\n",
       "      <th>half_seconds_remaining</th>\n",
       "      <th>game_seconds_remaining</th>\n",
       "      <th>drive</th>\n",
       "      <th>qtr</th>\n",
       "      <th>down</th>\n",
       "      <th>goal_to_go</th>\n",
       "      <th>ydstogo</th>\n",
       "      <th>yards_gained</th>\n",
       "      <th>shotgun</th>\n",
       "      <th>no_huddle</th>\n",
       "      <th>posteam_timeouts_remaining</th>\n",
       "      <th>defteam_timeouts_remaining</th>\n",
       "      <th>posteam_score</th>\n",
       "      <th>defteam_score</th>\n",
       "      <th>score_differential</th>\n",
       "      <th>wp</th>\n",
       "      <th>Target</th>\n",
       "    </tr>\n",
       "  </thead>\n",
       "  <tbody>\n",
       "    <tr>\n",
       "      <th>3</th>\n",
       "      <td>80.0</td>\n",
       "      <td>900.0</td>\n",
       "      <td>1800.0</td>\n",
       "      <td>3600.0</td>\n",
       "      <td>1.0</td>\n",
       "      <td>1</td>\n",
       "      <td>1.0</td>\n",
       "      <td>0</td>\n",
       "      <td>15</td>\n",
       "      <td>10.0</td>\n",
       "      <td>0</td>\n",
       "      <td>0</td>\n",
       "      <td>3.0</td>\n",
       "      <td>3.0</td>\n",
       "      <td>0.0</td>\n",
       "      <td>0.0</td>\n",
       "      <td>0.0</td>\n",
       "      <td>0.394005</td>\n",
       "      <td>1</td>\n",
       "    </tr>\n",
       "    <tr>\n",
       "      <th>4</th>\n",
       "      <td>70.0</td>\n",
       "      <td>862.0</td>\n",
       "      <td>1762.0</td>\n",
       "      <td>3562.0</td>\n",
       "      <td>1.0</td>\n",
       "      <td>1</td>\n",
       "      <td>2.0</td>\n",
       "      <td>0</td>\n",
       "      <td>5</td>\n",
       "      <td>11.0</td>\n",
       "      <td>0</td>\n",
       "      <td>0</td>\n",
       "      <td>3.0</td>\n",
       "      <td>3.0</td>\n",
       "      <td>0.0</td>\n",
       "      <td>0.0</td>\n",
       "      <td>0.0</td>\n",
       "      <td>0.432698</td>\n",
       "      <td>0</td>\n",
       "    </tr>\n",
       "    <tr>\n",
       "      <th>5</th>\n",
       "      <td>59.0</td>\n",
       "      <td>826.0</td>\n",
       "      <td>1726.0</td>\n",
       "      <td>3526.0</td>\n",
       "      <td>1.0</td>\n",
       "      <td>1</td>\n",
       "      <td>1.0</td>\n",
       "      <td>0</td>\n",
       "      <td>10</td>\n",
       "      <td>20.0</td>\n",
       "      <td>0</td>\n",
       "      <td>0</td>\n",
       "      <td>3.0</td>\n",
       "      <td>3.0</td>\n",
       "      <td>0.0</td>\n",
       "      <td>0.0</td>\n",
       "      <td>0.0</td>\n",
       "      <td>0.460501</td>\n",
       "      <td>0</td>\n",
       "    </tr>\n",
       "    <tr>\n",
       "      <th>6</th>\n",
       "      <td>39.0</td>\n",
       "      <td>790.0</td>\n",
       "      <td>1690.0</td>\n",
       "      <td>3490.0</td>\n",
       "      <td>1.0</td>\n",
       "      <td>1</td>\n",
       "      <td>1.0</td>\n",
       "      <td>0</td>\n",
       "      <td>10</td>\n",
       "      <td>0.0</td>\n",
       "      <td>0</td>\n",
       "      <td>0</td>\n",
       "      <td>3.0</td>\n",
       "      <td>3.0</td>\n",
       "      <td>0.0</td>\n",
       "      <td>0.0</td>\n",
       "      <td>0.0</td>\n",
       "      <td>0.508720</td>\n",
       "      <td>1</td>\n",
       "    </tr>\n",
       "    <tr>\n",
       "      <th>7</th>\n",
       "      <td>39.0</td>\n",
       "      <td>785.0</td>\n",
       "      <td>1685.0</td>\n",
       "      <td>3485.0</td>\n",
       "      <td>1.0</td>\n",
       "      <td>1</td>\n",
       "      <td>2.0</td>\n",
       "      <td>0</td>\n",
       "      <td>10</td>\n",
       "      <td>0.0</td>\n",
       "      <td>1</td>\n",
       "      <td>0</td>\n",
       "      <td>3.0</td>\n",
       "      <td>3.0</td>\n",
       "      <td>0.0</td>\n",
       "      <td>0.0</td>\n",
       "      <td>0.0</td>\n",
       "      <td>0.489379</td>\n",
       "      <td>1</td>\n",
       "    </tr>\n",
       "  </tbody>\n",
       "</table>\n",
       "</div>"
      ],
      "text/plain": [
       "   yardline_100  quarter_seconds_remaining  half_seconds_remaining  \\\n",
       "3          80.0                      900.0                  1800.0   \n",
       "4          70.0                      862.0                  1762.0   \n",
       "5          59.0                      826.0                  1726.0   \n",
       "6          39.0                      790.0                  1690.0   \n",
       "7          39.0                      785.0                  1685.0   \n",
       "\n",
       "   game_seconds_remaining  drive  qtr  down  goal_to_go  ydstogo  \\\n",
       "3                  3600.0    1.0    1   1.0           0       15   \n",
       "4                  3562.0    1.0    1   2.0           0        5   \n",
       "5                  3526.0    1.0    1   1.0           0       10   \n",
       "6                  3490.0    1.0    1   1.0           0       10   \n",
       "7                  3485.0    1.0    1   2.0           0       10   \n",
       "\n",
       "   yards_gained  shotgun  no_huddle  posteam_timeouts_remaining  \\\n",
       "3          10.0        0          0                         3.0   \n",
       "4          11.0        0          0                         3.0   \n",
       "5          20.0        0          0                         3.0   \n",
       "6           0.0        0          0                         3.0   \n",
       "7           0.0        1          0                         3.0   \n",
       "\n",
       "   defteam_timeouts_remaining  posteam_score  defteam_score  \\\n",
       "3                         3.0            0.0            0.0   \n",
       "4                         3.0            0.0            0.0   \n",
       "5                         3.0            0.0            0.0   \n",
       "6                         3.0            0.0            0.0   \n",
       "7                         3.0            0.0            0.0   \n",
       "\n",
       "   score_differential        wp  Target  \n",
       "3                 0.0  0.394005       1  \n",
       "4                 0.0  0.432698       0  \n",
       "5                 0.0  0.460501       0  \n",
       "6                 0.0  0.508720       1  \n",
       "7                 0.0  0.489379       1  "
      ]
     },
     "execution_count": 144,
     "metadata": {},
     "output_type": "execute_result"
    }
   ],
   "source": [
    "df2.head()"
   ]
  },
  {
   "cell_type": "code",
   "execution_count": 152,
   "metadata": {},
   "outputs": [],
   "source": [
    "df2['quarter_minutes_remaining'] = round(df2['quarter_seconds_remaining']/60, 2)\n",
    "df2['half_minutes_remaining'] = round(df2['half_seconds_remaining']/60, 2)\n",
    "df2['game_minutes_remaining'] = round(df2['game_seconds_remaining']/60, 2)"
   ]
  },
  {
   "cell_type": "code",
   "execution_count": 153,
   "metadata": {},
   "outputs": [
    {
     "data": {
      "text/html": [
       "<div>\n",
       "<style scoped>\n",
       "    .dataframe tbody tr th:only-of-type {\n",
       "        vertical-align: middle;\n",
       "    }\n",
       "\n",
       "    .dataframe tbody tr th {\n",
       "        vertical-align: top;\n",
       "    }\n",
       "\n",
       "    .dataframe thead th {\n",
       "        text-align: right;\n",
       "    }\n",
       "</style>\n",
       "<table border=\"1\" class=\"dataframe\">\n",
       "  <thead>\n",
       "    <tr style=\"text-align: right;\">\n",
       "      <th></th>\n",
       "      <th>yardline_100</th>\n",
       "      <th>quarter_seconds_remaining</th>\n",
       "      <th>half_seconds_remaining</th>\n",
       "      <th>game_seconds_remaining</th>\n",
       "      <th>drive</th>\n",
       "      <th>qtr</th>\n",
       "      <th>down</th>\n",
       "      <th>goal_to_go</th>\n",
       "      <th>ydstogo</th>\n",
       "      <th>yards_gained</th>\n",
       "      <th>...</th>\n",
       "      <th>posteam_timeouts_remaining</th>\n",
       "      <th>defteam_timeouts_remaining</th>\n",
       "      <th>posteam_score</th>\n",
       "      <th>defteam_score</th>\n",
       "      <th>score_differential</th>\n",
       "      <th>wp</th>\n",
       "      <th>Target</th>\n",
       "      <th>quarter_minutes_remaining</th>\n",
       "      <th>half_minutes_remaining</th>\n",
       "      <th>game_minutes_remaining</th>\n",
       "    </tr>\n",
       "  </thead>\n",
       "  <tbody>\n",
       "    <tr>\n",
       "      <th>3</th>\n",
       "      <td>80.0</td>\n",
       "      <td>900.0</td>\n",
       "      <td>1800.0</td>\n",
       "      <td>3600.0</td>\n",
       "      <td>1.0</td>\n",
       "      <td>1</td>\n",
       "      <td>1.0</td>\n",
       "      <td>0</td>\n",
       "      <td>15</td>\n",
       "      <td>10.0</td>\n",
       "      <td>...</td>\n",
       "      <td>3.0</td>\n",
       "      <td>3.0</td>\n",
       "      <td>0.0</td>\n",
       "      <td>0.0</td>\n",
       "      <td>0.0</td>\n",
       "      <td>0.394005</td>\n",
       "      <td>1</td>\n",
       "      <td>15.00</td>\n",
       "      <td>30.00</td>\n",
       "      <td>60.00</td>\n",
       "    </tr>\n",
       "    <tr>\n",
       "      <th>4</th>\n",
       "      <td>70.0</td>\n",
       "      <td>862.0</td>\n",
       "      <td>1762.0</td>\n",
       "      <td>3562.0</td>\n",
       "      <td>1.0</td>\n",
       "      <td>1</td>\n",
       "      <td>2.0</td>\n",
       "      <td>0</td>\n",
       "      <td>5</td>\n",
       "      <td>11.0</td>\n",
       "      <td>...</td>\n",
       "      <td>3.0</td>\n",
       "      <td>3.0</td>\n",
       "      <td>0.0</td>\n",
       "      <td>0.0</td>\n",
       "      <td>0.0</td>\n",
       "      <td>0.432698</td>\n",
       "      <td>0</td>\n",
       "      <td>14.37</td>\n",
       "      <td>29.37</td>\n",
       "      <td>59.37</td>\n",
       "    </tr>\n",
       "    <tr>\n",
       "      <th>5</th>\n",
       "      <td>59.0</td>\n",
       "      <td>826.0</td>\n",
       "      <td>1726.0</td>\n",
       "      <td>3526.0</td>\n",
       "      <td>1.0</td>\n",
       "      <td>1</td>\n",
       "      <td>1.0</td>\n",
       "      <td>0</td>\n",
       "      <td>10</td>\n",
       "      <td>20.0</td>\n",
       "      <td>...</td>\n",
       "      <td>3.0</td>\n",
       "      <td>3.0</td>\n",
       "      <td>0.0</td>\n",
       "      <td>0.0</td>\n",
       "      <td>0.0</td>\n",
       "      <td>0.460501</td>\n",
       "      <td>0</td>\n",
       "      <td>13.77</td>\n",
       "      <td>28.77</td>\n",
       "      <td>58.77</td>\n",
       "    </tr>\n",
       "    <tr>\n",
       "      <th>6</th>\n",
       "      <td>39.0</td>\n",
       "      <td>790.0</td>\n",
       "      <td>1690.0</td>\n",
       "      <td>3490.0</td>\n",
       "      <td>1.0</td>\n",
       "      <td>1</td>\n",
       "      <td>1.0</td>\n",
       "      <td>0</td>\n",
       "      <td>10</td>\n",
       "      <td>0.0</td>\n",
       "      <td>...</td>\n",
       "      <td>3.0</td>\n",
       "      <td>3.0</td>\n",
       "      <td>0.0</td>\n",
       "      <td>0.0</td>\n",
       "      <td>0.0</td>\n",
       "      <td>0.508720</td>\n",
       "      <td>1</td>\n",
       "      <td>13.17</td>\n",
       "      <td>28.17</td>\n",
       "      <td>58.17</td>\n",
       "    </tr>\n",
       "    <tr>\n",
       "      <th>7</th>\n",
       "      <td>39.0</td>\n",
       "      <td>785.0</td>\n",
       "      <td>1685.0</td>\n",
       "      <td>3485.0</td>\n",
       "      <td>1.0</td>\n",
       "      <td>1</td>\n",
       "      <td>2.0</td>\n",
       "      <td>0</td>\n",
       "      <td>10</td>\n",
       "      <td>0.0</td>\n",
       "      <td>...</td>\n",
       "      <td>3.0</td>\n",
       "      <td>3.0</td>\n",
       "      <td>0.0</td>\n",
       "      <td>0.0</td>\n",
       "      <td>0.0</td>\n",
       "      <td>0.489379</td>\n",
       "      <td>1</td>\n",
       "      <td>13.08</td>\n",
       "      <td>28.08</td>\n",
       "      <td>58.08</td>\n",
       "    </tr>\n",
       "  </tbody>\n",
       "</table>\n",
       "<p>5 rows × 22 columns</p>\n",
       "</div>"
      ],
      "text/plain": [
       "   yardline_100  quarter_seconds_remaining  half_seconds_remaining  \\\n",
       "3          80.0                      900.0                  1800.0   \n",
       "4          70.0                      862.0                  1762.0   \n",
       "5          59.0                      826.0                  1726.0   \n",
       "6          39.0                      790.0                  1690.0   \n",
       "7          39.0                      785.0                  1685.0   \n",
       "\n",
       "   game_seconds_remaining  drive  qtr  down  goal_to_go  ydstogo  \\\n",
       "3                  3600.0    1.0    1   1.0           0       15   \n",
       "4                  3562.0    1.0    1   2.0           0        5   \n",
       "5                  3526.0    1.0    1   1.0           0       10   \n",
       "6                  3490.0    1.0    1   1.0           0       10   \n",
       "7                  3485.0    1.0    1   2.0           0       10   \n",
       "\n",
       "   yards_gained  ...  posteam_timeouts_remaining  defteam_timeouts_remaining  \\\n",
       "3          10.0  ...                         3.0                         3.0   \n",
       "4          11.0  ...                         3.0                         3.0   \n",
       "5          20.0  ...                         3.0                         3.0   \n",
       "6           0.0  ...                         3.0                         3.0   \n",
       "7           0.0  ...                         3.0                         3.0   \n",
       "\n",
       "   posteam_score  defteam_score  score_differential        wp  Target  \\\n",
       "3            0.0            0.0                 0.0  0.394005       1   \n",
       "4            0.0            0.0                 0.0  0.432698       0   \n",
       "5            0.0            0.0                 0.0  0.460501       0   \n",
       "6            0.0            0.0                 0.0  0.508720       1   \n",
       "7            0.0            0.0                 0.0  0.489379       1   \n",
       "\n",
       "   quarter_minutes_remaining  half_minutes_remaining  game_minutes_remaining  \n",
       "3                      15.00                   30.00                   60.00  \n",
       "4                      14.37                   29.37                   59.37  \n",
       "5                      13.77                   28.77                   58.77  \n",
       "6                      13.17                   28.17                   58.17  \n",
       "7                      13.08                   28.08                   58.08  \n",
       "\n",
       "[5 rows x 22 columns]"
      ]
     },
     "execution_count": 153,
     "metadata": {},
     "output_type": "execute_result"
    }
   ],
   "source": [
    "df2.head()"
   ]
  },
  {
   "cell_type": "code",
   "execution_count": 154,
   "metadata": {},
   "outputs": [],
   "source": [
    "df2 = df2.drop(['yards_gained', 'quarter_seconds_remaining', 'half_seconds_remaining', 'game_seconds_remaining'], axis=1)"
   ]
  },
  {
   "cell_type": "code",
   "execution_count": 155,
   "metadata": {},
   "outputs": [
    {
     "data": {
      "text/html": [
       "<div>\n",
       "<style scoped>\n",
       "    .dataframe tbody tr th:only-of-type {\n",
       "        vertical-align: middle;\n",
       "    }\n",
       "\n",
       "    .dataframe tbody tr th {\n",
       "        vertical-align: top;\n",
       "    }\n",
       "\n",
       "    .dataframe thead th {\n",
       "        text-align: right;\n",
       "    }\n",
       "</style>\n",
       "<table border=\"1\" class=\"dataframe\">\n",
       "  <thead>\n",
       "    <tr style=\"text-align: right;\">\n",
       "      <th></th>\n",
       "      <th>yardline_100</th>\n",
       "      <th>drive</th>\n",
       "      <th>qtr</th>\n",
       "      <th>down</th>\n",
       "      <th>goal_to_go</th>\n",
       "      <th>ydstogo</th>\n",
       "      <th>shotgun</th>\n",
       "      <th>no_huddle</th>\n",
       "      <th>posteam_timeouts_remaining</th>\n",
       "      <th>defteam_timeouts_remaining</th>\n",
       "      <th>posteam_score</th>\n",
       "      <th>defteam_score</th>\n",
       "      <th>score_differential</th>\n",
       "      <th>wp</th>\n",
       "      <th>Target</th>\n",
       "      <th>quarter_minutes_remaining</th>\n",
       "      <th>half_minutes_remaining</th>\n",
       "      <th>game_minutes_remaining</th>\n",
       "    </tr>\n",
       "  </thead>\n",
       "  <tbody>\n",
       "    <tr>\n",
       "      <th>3</th>\n",
       "      <td>80.0</td>\n",
       "      <td>1.0</td>\n",
       "      <td>1</td>\n",
       "      <td>1.0</td>\n",
       "      <td>0</td>\n",
       "      <td>15</td>\n",
       "      <td>0</td>\n",
       "      <td>0</td>\n",
       "      <td>3.0</td>\n",
       "      <td>3.0</td>\n",
       "      <td>0.0</td>\n",
       "      <td>0.0</td>\n",
       "      <td>0.0</td>\n",
       "      <td>0.394005</td>\n",
       "      <td>1</td>\n",
       "      <td>15.00</td>\n",
       "      <td>30.00</td>\n",
       "      <td>60.00</td>\n",
       "    </tr>\n",
       "    <tr>\n",
       "      <th>4</th>\n",
       "      <td>70.0</td>\n",
       "      <td>1.0</td>\n",
       "      <td>1</td>\n",
       "      <td>2.0</td>\n",
       "      <td>0</td>\n",
       "      <td>5</td>\n",
       "      <td>0</td>\n",
       "      <td>0</td>\n",
       "      <td>3.0</td>\n",
       "      <td>3.0</td>\n",
       "      <td>0.0</td>\n",
       "      <td>0.0</td>\n",
       "      <td>0.0</td>\n",
       "      <td>0.432698</td>\n",
       "      <td>0</td>\n",
       "      <td>14.37</td>\n",
       "      <td>29.37</td>\n",
       "      <td>59.37</td>\n",
       "    </tr>\n",
       "    <tr>\n",
       "      <th>5</th>\n",
       "      <td>59.0</td>\n",
       "      <td>1.0</td>\n",
       "      <td>1</td>\n",
       "      <td>1.0</td>\n",
       "      <td>0</td>\n",
       "      <td>10</td>\n",
       "      <td>0</td>\n",
       "      <td>0</td>\n",
       "      <td>3.0</td>\n",
       "      <td>3.0</td>\n",
       "      <td>0.0</td>\n",
       "      <td>0.0</td>\n",
       "      <td>0.0</td>\n",
       "      <td>0.460501</td>\n",
       "      <td>0</td>\n",
       "      <td>13.77</td>\n",
       "      <td>28.77</td>\n",
       "      <td>58.77</td>\n",
       "    </tr>\n",
       "    <tr>\n",
       "      <th>6</th>\n",
       "      <td>39.0</td>\n",
       "      <td>1.0</td>\n",
       "      <td>1</td>\n",
       "      <td>1.0</td>\n",
       "      <td>0</td>\n",
       "      <td>10</td>\n",
       "      <td>0</td>\n",
       "      <td>0</td>\n",
       "      <td>3.0</td>\n",
       "      <td>3.0</td>\n",
       "      <td>0.0</td>\n",
       "      <td>0.0</td>\n",
       "      <td>0.0</td>\n",
       "      <td>0.508720</td>\n",
       "      <td>1</td>\n",
       "      <td>13.17</td>\n",
       "      <td>28.17</td>\n",
       "      <td>58.17</td>\n",
       "    </tr>\n",
       "    <tr>\n",
       "      <th>7</th>\n",
       "      <td>39.0</td>\n",
       "      <td>1.0</td>\n",
       "      <td>1</td>\n",
       "      <td>2.0</td>\n",
       "      <td>0</td>\n",
       "      <td>10</td>\n",
       "      <td>1</td>\n",
       "      <td>0</td>\n",
       "      <td>3.0</td>\n",
       "      <td>3.0</td>\n",
       "      <td>0.0</td>\n",
       "      <td>0.0</td>\n",
       "      <td>0.0</td>\n",
       "      <td>0.489379</td>\n",
       "      <td>1</td>\n",
       "      <td>13.08</td>\n",
       "      <td>28.08</td>\n",
       "      <td>58.08</td>\n",
       "    </tr>\n",
       "  </tbody>\n",
       "</table>\n",
       "</div>"
      ],
      "text/plain": [
       "   yardline_100  drive  qtr  down  goal_to_go  ydstogo  shotgun  no_huddle  \\\n",
       "3          80.0    1.0    1   1.0           0       15        0          0   \n",
       "4          70.0    1.0    1   2.0           0        5        0          0   \n",
       "5          59.0    1.0    1   1.0           0       10        0          0   \n",
       "6          39.0    1.0    1   1.0           0       10        0          0   \n",
       "7          39.0    1.0    1   2.0           0       10        1          0   \n",
       "\n",
       "   posteam_timeouts_remaining  defteam_timeouts_remaining  posteam_score  \\\n",
       "3                         3.0                         3.0            0.0   \n",
       "4                         3.0                         3.0            0.0   \n",
       "5                         3.0                         3.0            0.0   \n",
       "6                         3.0                         3.0            0.0   \n",
       "7                         3.0                         3.0            0.0   \n",
       "\n",
       "   defteam_score  score_differential        wp  Target  \\\n",
       "3            0.0                 0.0  0.394005       1   \n",
       "4            0.0                 0.0  0.432698       0   \n",
       "5            0.0                 0.0  0.460501       0   \n",
       "6            0.0                 0.0  0.508720       1   \n",
       "7            0.0                 0.0  0.489379       1   \n",
       "\n",
       "   quarter_minutes_remaining  half_minutes_remaining  game_minutes_remaining  \n",
       "3                      15.00                   30.00                   60.00  \n",
       "4                      14.37                   29.37                   59.37  \n",
       "5                      13.77                   28.77                   58.77  \n",
       "6                      13.17                   28.17                   58.17  \n",
       "7                      13.08                   28.08                   58.08  "
      ]
     },
     "execution_count": 155,
     "metadata": {},
     "output_type": "execute_result"
    }
   ],
   "source": [
    "df2.head()"
   ]
  },
  {
   "cell_type": "code",
   "execution_count": null,
   "metadata": {},
   "outputs": [],
   "source": []
  }
 ],
 "metadata": {
  "kernelspec": {
   "display_name": "learn-env-2",
   "language": "python",
   "name": "learn-env-2"
  },
  "language_info": {
   "codemirror_mode": {
    "name": "ipython",
    "version": 3
   },
   "file_extension": ".py",
   "mimetype": "text/x-python",
   "name": "python",
   "nbconvert_exporter": "python",
   "pygments_lexer": "ipython3",
   "version": "3.8.5"
  }
 },
 "nbformat": 4,
 "nbformat_minor": 4
}
